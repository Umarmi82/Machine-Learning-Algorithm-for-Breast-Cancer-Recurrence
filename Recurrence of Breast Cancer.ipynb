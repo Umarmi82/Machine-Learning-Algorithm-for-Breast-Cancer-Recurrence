{
 "cells": [
  {
   "cell_type": "markdown",
   "id": "fae4fecd-3f2b-4507-a2fa-23e2f35bc72a",
   "metadata": {},
   "source": [
    "# Introduction"
   ]
  },
  {
   "cell_type": "markdown",
   "id": "98f9c2cd-68dd-4827-b463-d55cf7434f2d",
   "metadata": {},
   "source": [
    "The dataset was retrieved from the weblink below\n",
    "Patterns and Characteristics of Recurrent Breast Cancer 2023. Available from: https://www.kaggle.com/datasets/tanshihjen/recurrent-breastcancerdataset."
   ]
  },
  {
   "cell_type": "markdown",
   "id": "ff63b645-3aeb-47b9-9193-2e32bfef00d5",
   "metadata": {},
   "source": [
    "## Import Libraries"
   ]
  },
  {
   "cell_type": "code",
   "execution_count": 3,
   "id": "7a72807b-e19a-45af-81dd-70b54ac6e146",
   "metadata": {},
   "outputs": [],
   "source": [
    "import pandas as pd\n",
    "from sklearn.linear_model import LogisticRegression\n",
    "from sklearn.linear_model import LinearRegression\n",
    "from sklearn import preprocessing\n",
    "import numpy as np\n",
    "from sklearn.neighbors import KNeighborsClassifier\n",
    "from sklearn.model_selection import train_test_split\n",
    "from sklearn.neighbors import KNeighborsClassifier\n",
    "from sklearn.tree import DecisionTreeClassifier\n",
    "from sklearn import svm\n",
    "from sklearn.metrics import jaccard_score\n",
    "from sklearn.metrics import f1_score\n",
    "from sklearn.metrics import log_loss\n",
    "from sklearn.metrics import confusion_matrix, accuracy_score\n",
    "import sklearn.metrics as metrics\n",
    "import matplotlib.pyplot as plt\n",
    "import seaborn as sns"
   ]
  },
  {
   "cell_type": "markdown",
   "id": "5d98ab5e-6d9f-4134-8482-aadd628b23d1",
   "metadata": {},
   "source": [
    "## Loading The Dataset"
   ]
  },
  {
   "cell_type": "code",
   "execution_count": 4,
   "id": "6094e97d-3996-442f-8802-877f8c72a713",
   "metadata": {},
   "outputs": [],
   "source": [
    "df = pd.read_excel(\"Breast Cancer Data.xlsx\")"
   ]
  },
  {
   "cell_type": "code",
   "execution_count": 5,
   "id": "1dd8874e-3b98-41ce-9354-f12f003b178f",
   "metadata": {},
   "outputs": [
    {
     "data": {
      "text/html": [
       "<div>\n",
       "<style scoped>\n",
       "    .dataframe tbody tr th:only-of-type {\n",
       "        vertical-align: middle;\n",
       "    }\n",
       "\n",
       "    .dataframe tbody tr th {\n",
       "        vertical-align: top;\n",
       "    }\n",
       "\n",
       "    .dataframe thead th {\n",
       "        text-align: right;\n",
       "    }\n",
       "</style>\n",
       "<table border=\"1\" class=\"dataframe\">\n",
       "  <thead>\n",
       "    <tr style=\"text-align: right;\">\n",
       "      <th></th>\n",
       "      <th>age</th>\n",
       "      <th>menopause</th>\n",
       "      <th>tumor-size</th>\n",
       "      <th>inv-nodes</th>\n",
       "      <th>node-caps</th>\n",
       "      <th>deg-malig</th>\n",
       "      <th>breast</th>\n",
       "      <th>breast-quad</th>\n",
       "      <th>irradiat</th>\n",
       "      <th>target</th>\n",
       "    </tr>\n",
       "  </thead>\n",
       "  <tbody>\n",
       "    <tr>\n",
       "      <th>0</th>\n",
       "      <td>30-39</td>\n",
       "      <td>premeno</td>\n",
       "      <td>30-34</td>\n",
       "      <td>0-2</td>\n",
       "      <td>no</td>\n",
       "      <td>3</td>\n",
       "      <td>left</td>\n",
       "      <td>left_low</td>\n",
       "      <td>no</td>\n",
       "      <td>no-recurrence-events</td>\n",
       "    </tr>\n",
       "    <tr>\n",
       "      <th>1</th>\n",
       "      <td>40-49</td>\n",
       "      <td>premeno</td>\n",
       "      <td>20-24</td>\n",
       "      <td>0-2</td>\n",
       "      <td>no</td>\n",
       "      <td>2</td>\n",
       "      <td>right</td>\n",
       "      <td>right_up</td>\n",
       "      <td>no</td>\n",
       "      <td>no-recurrence-events</td>\n",
       "    </tr>\n",
       "    <tr>\n",
       "      <th>2</th>\n",
       "      <td>40-49</td>\n",
       "      <td>premeno</td>\n",
       "      <td>20-24</td>\n",
       "      <td>0-2</td>\n",
       "      <td>no</td>\n",
       "      <td>2</td>\n",
       "      <td>left</td>\n",
       "      <td>left_low</td>\n",
       "      <td>no</td>\n",
       "      <td>no-recurrence-events</td>\n",
       "    </tr>\n",
       "    <tr>\n",
       "      <th>3</th>\n",
       "      <td>60-69</td>\n",
       "      <td>ge40</td>\n",
       "      <td>15-19</td>\n",
       "      <td>0-2</td>\n",
       "      <td>no</td>\n",
       "      <td>2</td>\n",
       "      <td>right</td>\n",
       "      <td>left_up</td>\n",
       "      <td>no</td>\n",
       "      <td>no-recurrence-events</td>\n",
       "    </tr>\n",
       "    <tr>\n",
       "      <th>4</th>\n",
       "      <td>40-49</td>\n",
       "      <td>premeno</td>\n",
       "      <td>0-4</td>\n",
       "      <td>0-2</td>\n",
       "      <td>no</td>\n",
       "      <td>2</td>\n",
       "      <td>right</td>\n",
       "      <td>right_low</td>\n",
       "      <td>no</td>\n",
       "      <td>no-recurrence-events</td>\n",
       "    </tr>\n",
       "    <tr>\n",
       "      <th>5</th>\n",
       "      <td>60-69</td>\n",
       "      <td>ge40</td>\n",
       "      <td>15-19</td>\n",
       "      <td>0-2</td>\n",
       "      <td>no</td>\n",
       "      <td>2</td>\n",
       "      <td>left</td>\n",
       "      <td>left_low</td>\n",
       "      <td>no</td>\n",
       "      <td>no-recurrence-events</td>\n",
       "    </tr>\n",
       "    <tr>\n",
       "      <th>6</th>\n",
       "      <td>50-59</td>\n",
       "      <td>premeno</td>\n",
       "      <td>25-29</td>\n",
       "      <td>0-2</td>\n",
       "      <td>no</td>\n",
       "      <td>2</td>\n",
       "      <td>left</td>\n",
       "      <td>left_low</td>\n",
       "      <td>no</td>\n",
       "      <td>no-recurrence-events</td>\n",
       "    </tr>\n",
       "    <tr>\n",
       "      <th>7</th>\n",
       "      <td>60-69</td>\n",
       "      <td>ge40</td>\n",
       "      <td>20-24</td>\n",
       "      <td>0-2</td>\n",
       "      <td>no</td>\n",
       "      <td>1</td>\n",
       "      <td>left</td>\n",
       "      <td>left_low</td>\n",
       "      <td>no</td>\n",
       "      <td>no-recurrence-events</td>\n",
       "    </tr>\n",
       "    <tr>\n",
       "      <th>8</th>\n",
       "      <td>40-49</td>\n",
       "      <td>premeno</td>\n",
       "      <td>50-54</td>\n",
       "      <td>0-2</td>\n",
       "      <td>no</td>\n",
       "      <td>2</td>\n",
       "      <td>left</td>\n",
       "      <td>left_low</td>\n",
       "      <td>no</td>\n",
       "      <td>no-recurrence-events</td>\n",
       "    </tr>\n",
       "    <tr>\n",
       "      <th>9</th>\n",
       "      <td>40-49</td>\n",
       "      <td>premeno</td>\n",
       "      <td>20-24</td>\n",
       "      <td>0-2</td>\n",
       "      <td>no</td>\n",
       "      <td>2</td>\n",
       "      <td>right</td>\n",
       "      <td>left_up</td>\n",
       "      <td>no</td>\n",
       "      <td>no-recurrence-events</td>\n",
       "    </tr>\n",
       "    <tr>\n",
       "      <th>10</th>\n",
       "      <td>40-49</td>\n",
       "      <td>premeno</td>\n",
       "      <td>0-4</td>\n",
       "      <td>0-2</td>\n",
       "      <td>no</td>\n",
       "      <td>3</td>\n",
       "      <td>left</td>\n",
       "      <td>central</td>\n",
       "      <td>no</td>\n",
       "      <td>no-recurrence-events</td>\n",
       "    </tr>\n",
       "    <tr>\n",
       "      <th>11</th>\n",
       "      <td>50-59</td>\n",
       "      <td>ge40</td>\n",
       "      <td>25-29</td>\n",
       "      <td>0-2</td>\n",
       "      <td>no</td>\n",
       "      <td>2</td>\n",
       "      <td>left</td>\n",
       "      <td>left_low</td>\n",
       "      <td>no</td>\n",
       "      <td>no-recurrence-events</td>\n",
       "    </tr>\n",
       "    <tr>\n",
       "      <th>12</th>\n",
       "      <td>60-69</td>\n",
       "      <td>lt40</td>\n",
       "      <td>10-14</td>\n",
       "      <td>0-2</td>\n",
       "      <td>no</td>\n",
       "      <td>1</td>\n",
       "      <td>left</td>\n",
       "      <td>right_up</td>\n",
       "      <td>no</td>\n",
       "      <td>no-recurrence-events</td>\n",
       "    </tr>\n",
       "    <tr>\n",
       "      <th>13</th>\n",
       "      <td>50-59</td>\n",
       "      <td>ge40</td>\n",
       "      <td>25-29</td>\n",
       "      <td>0-2</td>\n",
       "      <td>no</td>\n",
       "      <td>3</td>\n",
       "      <td>left</td>\n",
       "      <td>right_up</td>\n",
       "      <td>no</td>\n",
       "      <td>no-recurrence-events</td>\n",
       "    </tr>\n",
       "    <tr>\n",
       "      <th>14</th>\n",
       "      <td>40-49</td>\n",
       "      <td>premeno</td>\n",
       "      <td>30-34</td>\n",
       "      <td>0-2</td>\n",
       "      <td>no</td>\n",
       "      <td>3</td>\n",
       "      <td>left</td>\n",
       "      <td>left_up</td>\n",
       "      <td>no</td>\n",
       "      <td>no-recurrence-events</td>\n",
       "    </tr>\n",
       "    <tr>\n",
       "      <th>15</th>\n",
       "      <td>60-69</td>\n",
       "      <td>lt40</td>\n",
       "      <td>30-34</td>\n",
       "      <td>0-2</td>\n",
       "      <td>no</td>\n",
       "      <td>1</td>\n",
       "      <td>left</td>\n",
       "      <td>left_low</td>\n",
       "      <td>no</td>\n",
       "      <td>no-recurrence-events</td>\n",
       "    </tr>\n",
       "    <tr>\n",
       "      <th>16</th>\n",
       "      <td>40-49</td>\n",
       "      <td>premeno</td>\n",
       "      <td>15-19</td>\n",
       "      <td>0-2</td>\n",
       "      <td>no</td>\n",
       "      <td>2</td>\n",
       "      <td>left</td>\n",
       "      <td>left_low</td>\n",
       "      <td>no</td>\n",
       "      <td>no-recurrence-events</td>\n",
       "    </tr>\n",
       "    <tr>\n",
       "      <th>17</th>\n",
       "      <td>50-59</td>\n",
       "      <td>premeno</td>\n",
       "      <td>30-34</td>\n",
       "      <td>0-2</td>\n",
       "      <td>no</td>\n",
       "      <td>3</td>\n",
       "      <td>left</td>\n",
       "      <td>left_low</td>\n",
       "      <td>no</td>\n",
       "      <td>no-recurrence-events</td>\n",
       "    </tr>\n",
       "    <tr>\n",
       "      <th>18</th>\n",
       "      <td>60-69</td>\n",
       "      <td>ge40</td>\n",
       "      <td>30-34</td>\n",
       "      <td>0-2</td>\n",
       "      <td>no</td>\n",
       "      <td>3</td>\n",
       "      <td>left</td>\n",
       "      <td>left_low</td>\n",
       "      <td>no</td>\n",
       "      <td>no-recurrence-events</td>\n",
       "    </tr>\n",
       "    <tr>\n",
       "      <th>19</th>\n",
       "      <td>50-59</td>\n",
       "      <td>ge40</td>\n",
       "      <td>30-34</td>\n",
       "      <td>0-2</td>\n",
       "      <td>no</td>\n",
       "      <td>1</td>\n",
       "      <td>right</td>\n",
       "      <td>right_up</td>\n",
       "      <td>no</td>\n",
       "      <td>no-recurrence-events</td>\n",
       "    </tr>\n",
       "  </tbody>\n",
       "</table>\n",
       "</div>"
      ],
      "text/plain": [
       "      age menopause tumor-size inv-nodes node-caps  deg-malig breast  \\\n",
       "0   30-39   premeno      30-34       0-2        no          3   left   \n",
       "1   40-49   premeno      20-24       0-2        no          2  right   \n",
       "2   40-49   premeno      20-24       0-2        no          2   left   \n",
       "3   60-69      ge40      15-19       0-2        no          2  right   \n",
       "4   40-49   premeno        0-4       0-2        no          2  right   \n",
       "5   60-69      ge40      15-19       0-2        no          2   left   \n",
       "6   50-59   premeno      25-29       0-2        no          2   left   \n",
       "7   60-69      ge40      20-24       0-2        no          1   left   \n",
       "8   40-49   premeno      50-54       0-2        no          2   left   \n",
       "9   40-49   premeno      20-24       0-2        no          2  right   \n",
       "10  40-49   premeno        0-4       0-2        no          3   left   \n",
       "11  50-59      ge40      25-29       0-2        no          2   left   \n",
       "12  60-69      lt40      10-14       0-2        no          1   left   \n",
       "13  50-59      ge40      25-29       0-2        no          3   left   \n",
       "14  40-49   premeno      30-34       0-2        no          3   left   \n",
       "15  60-69      lt40      30-34       0-2        no          1   left   \n",
       "16  40-49   premeno      15-19       0-2        no          2   left   \n",
       "17  50-59   premeno      30-34       0-2        no          3   left   \n",
       "18  60-69      ge40      30-34       0-2        no          3   left   \n",
       "19  50-59      ge40      30-34       0-2        no          1  right   \n",
       "\n",
       "   breast-quad irradiat                target  \n",
       "0     left_low       no  no-recurrence-events  \n",
       "1     right_up       no  no-recurrence-events  \n",
       "2     left_low       no  no-recurrence-events  \n",
       "3      left_up       no  no-recurrence-events  \n",
       "4    right_low       no  no-recurrence-events  \n",
       "5     left_low       no  no-recurrence-events  \n",
       "6     left_low       no  no-recurrence-events  \n",
       "7     left_low       no  no-recurrence-events  \n",
       "8     left_low       no  no-recurrence-events  \n",
       "9      left_up       no  no-recurrence-events  \n",
       "10     central       no  no-recurrence-events  \n",
       "11    left_low       no  no-recurrence-events  \n",
       "12    right_up       no  no-recurrence-events  \n",
       "13    right_up       no  no-recurrence-events  \n",
       "14     left_up       no  no-recurrence-events  \n",
       "15    left_low       no  no-recurrence-events  \n",
       "16    left_low       no  no-recurrence-events  \n",
       "17    left_low       no  no-recurrence-events  \n",
       "18    left_low       no  no-recurrence-events  \n",
       "19    right_up       no  no-recurrence-events  "
      ]
     },
     "execution_count": 5,
     "metadata": {},
     "output_type": "execute_result"
    }
   ],
   "source": [
    "df.head(20)"
   ]
  },
  {
   "cell_type": "code",
   "execution_count": 6,
   "id": "b1ad65a9-afb9-4226-bd7d-c93f2f2ae165",
   "metadata": {},
   "outputs": [
    {
     "data": {
      "text/plain": [
       "Index(['age', 'menopause', 'tumor-size', 'inv-nodes', 'node-caps', 'deg-malig',\n",
       "       'breast', 'breast-quad', 'irradiat', 'target'],\n",
       "      dtype='object')"
      ]
     },
     "execution_count": 6,
     "metadata": {},
     "output_type": "execute_result"
    }
   ],
   "source": [
    "df.columns"
   ]
  },
  {
   "cell_type": "code",
   "execution_count": 7,
   "id": "da5ddf6e-f5e0-45d2-ad8b-74db40ec706a",
   "metadata": {},
   "outputs": [],
   "source": [
    "df.rename(columns = {'target': 'relapse'}, inplace = True)"
   ]
  },
  {
   "cell_type": "code",
   "execution_count": 8,
   "id": "a6d1f6df-7be9-49b1-9085-d63385123d95",
   "metadata": {},
   "outputs": [
    {
     "data": {
      "text/html": [
       "<div>\n",
       "<style scoped>\n",
       "    .dataframe tbody tr th:only-of-type {\n",
       "        vertical-align: middle;\n",
       "    }\n",
       "\n",
       "    .dataframe tbody tr th {\n",
       "        vertical-align: top;\n",
       "    }\n",
       "\n",
       "    .dataframe thead th {\n",
       "        text-align: right;\n",
       "    }\n",
       "</style>\n",
       "<table border=\"1\" class=\"dataframe\">\n",
       "  <thead>\n",
       "    <tr style=\"text-align: right;\">\n",
       "      <th></th>\n",
       "      <th>age</th>\n",
       "      <th>menopause</th>\n",
       "      <th>tumor-size</th>\n",
       "      <th>inv-nodes</th>\n",
       "      <th>node-caps</th>\n",
       "      <th>deg-malig</th>\n",
       "      <th>breast</th>\n",
       "      <th>breast-quad</th>\n",
       "      <th>irradiat</th>\n",
       "      <th>relapse</th>\n",
       "    </tr>\n",
       "  </thead>\n",
       "  <tbody>\n",
       "    <tr>\n",
       "      <th>0</th>\n",
       "      <td>30-39</td>\n",
       "      <td>premeno</td>\n",
       "      <td>30-34</td>\n",
       "      <td>0-2</td>\n",
       "      <td>no</td>\n",
       "      <td>3</td>\n",
       "      <td>left</td>\n",
       "      <td>left_low</td>\n",
       "      <td>no</td>\n",
       "      <td>no-recurrence-events</td>\n",
       "    </tr>\n",
       "    <tr>\n",
       "      <th>1</th>\n",
       "      <td>40-49</td>\n",
       "      <td>premeno</td>\n",
       "      <td>20-24</td>\n",
       "      <td>0-2</td>\n",
       "      <td>no</td>\n",
       "      <td>2</td>\n",
       "      <td>right</td>\n",
       "      <td>right_up</td>\n",
       "      <td>no</td>\n",
       "      <td>no-recurrence-events</td>\n",
       "    </tr>\n",
       "    <tr>\n",
       "      <th>2</th>\n",
       "      <td>40-49</td>\n",
       "      <td>premeno</td>\n",
       "      <td>20-24</td>\n",
       "      <td>0-2</td>\n",
       "      <td>no</td>\n",
       "      <td>2</td>\n",
       "      <td>left</td>\n",
       "      <td>left_low</td>\n",
       "      <td>no</td>\n",
       "      <td>no-recurrence-events</td>\n",
       "    </tr>\n",
       "    <tr>\n",
       "      <th>3</th>\n",
       "      <td>60-69</td>\n",
       "      <td>ge40</td>\n",
       "      <td>15-19</td>\n",
       "      <td>0-2</td>\n",
       "      <td>no</td>\n",
       "      <td>2</td>\n",
       "      <td>right</td>\n",
       "      <td>left_up</td>\n",
       "      <td>no</td>\n",
       "      <td>no-recurrence-events</td>\n",
       "    </tr>\n",
       "    <tr>\n",
       "      <th>4</th>\n",
       "      <td>40-49</td>\n",
       "      <td>premeno</td>\n",
       "      <td>0-4</td>\n",
       "      <td>0-2</td>\n",
       "      <td>no</td>\n",
       "      <td>2</td>\n",
       "      <td>right</td>\n",
       "      <td>right_low</td>\n",
       "      <td>no</td>\n",
       "      <td>no-recurrence-events</td>\n",
       "    </tr>\n",
       "  </tbody>\n",
       "</table>\n",
       "</div>"
      ],
      "text/plain": [
       "     age menopause tumor-size inv-nodes node-caps  deg-malig breast  \\\n",
       "0  30-39   premeno      30-34       0-2        no          3   left   \n",
       "1  40-49   premeno      20-24       0-2        no          2  right   \n",
       "2  40-49   premeno      20-24       0-2        no          2   left   \n",
       "3  60-69      ge40      15-19       0-2        no          2  right   \n",
       "4  40-49   premeno        0-4       0-2        no          2  right   \n",
       "\n",
       "  breast-quad irradiat               relapse  \n",
       "0    left_low       no  no-recurrence-events  \n",
       "1    right_up       no  no-recurrence-events  \n",
       "2    left_low       no  no-recurrence-events  \n",
       "3     left_up       no  no-recurrence-events  \n",
       "4   right_low       no  no-recurrence-events  "
      ]
     },
     "execution_count": 8,
     "metadata": {},
     "output_type": "execute_result"
    }
   ],
   "source": [
    "df.head()"
   ]
  },
  {
   "cell_type": "code",
   "execution_count": 9,
   "id": "ffa7b996-62cf-48ba-8989-b09a4a14be95",
   "metadata": {},
   "outputs": [
    {
     "data": {
      "text/plain": [
       "(286, 10)"
      ]
     },
     "execution_count": 9,
     "metadata": {},
     "output_type": "execute_result"
    }
   ],
   "source": [
    "df.shape"
   ]
  },
  {
   "cell_type": "code",
   "execution_count": 10,
   "id": "fcd2cd1a-4992-49fb-b0a8-7bc79533a0a8",
   "metadata": {},
   "outputs": [
    {
     "data": {
      "text/plain": [
       "age            0\n",
       "menopause      0\n",
       "tumor-size     0\n",
       "inv-nodes      0\n",
       "node-caps      8\n",
       "deg-malig      0\n",
       "breast         0\n",
       "breast-quad    1\n",
       "irradiat       0\n",
       "relapse        0\n",
       "dtype: int64"
      ]
     },
     "execution_count": 10,
     "metadata": {},
     "output_type": "execute_result"
    }
   ],
   "source": [
    "df.isna().sum()"
   ]
  },
  {
   "cell_type": "code",
   "execution_count": 11,
   "id": "9cd55a68-7bb0-493f-988e-592205c0e7ce",
   "metadata": {},
   "outputs": [],
   "source": [
    "df.dropna(inplace = True)"
   ]
  },
  {
   "cell_type": "code",
   "execution_count": 12,
   "id": "653257a9-a441-48f9-8cf9-db44b3da2365",
   "metadata": {},
   "outputs": [
    {
     "data": {
      "text/plain": [
       "(277, 10)"
      ]
     },
     "execution_count": 12,
     "metadata": {},
     "output_type": "execute_result"
    }
   ],
   "source": [
    "df.shape"
   ]
  },
  {
   "cell_type": "code",
   "execution_count": 13,
   "id": "c7dc348b-da8d-4e4c-8136-bbb0bedb4045",
   "metadata": {},
   "outputs": [
    {
     "data": {
      "text/plain": [
       "age            0\n",
       "menopause      0\n",
       "tumor-size     0\n",
       "inv-nodes      0\n",
       "node-caps      0\n",
       "deg-malig      0\n",
       "breast         0\n",
       "breast-quad    0\n",
       "irradiat       0\n",
       "relapse        0\n",
       "dtype: int64"
      ]
     },
     "execution_count": 13,
     "metadata": {},
     "output_type": "execute_result"
    }
   ],
   "source": [
    "df.isna().sum()"
   ]
  },
  {
   "cell_type": "code",
   "execution_count": 14,
   "id": "6ad591f9-e95c-4015-9546-e681cdb36f8e",
   "metadata": {},
   "outputs": [
    {
     "data": {
      "text/html": [
       "<div>\n",
       "<style scoped>\n",
       "    .dataframe tbody tr th:only-of-type {\n",
       "        vertical-align: middle;\n",
       "    }\n",
       "\n",
       "    .dataframe tbody tr th {\n",
       "        vertical-align: top;\n",
       "    }\n",
       "\n",
       "    .dataframe thead th {\n",
       "        text-align: right;\n",
       "    }\n",
       "</style>\n",
       "<table border=\"1\" class=\"dataframe\">\n",
       "  <thead>\n",
       "    <tr style=\"text-align: right;\">\n",
       "      <th></th>\n",
       "      <th>age</th>\n",
       "      <th>menopause</th>\n",
       "      <th>tumor-size</th>\n",
       "      <th>inv-nodes</th>\n",
       "      <th>node-caps</th>\n",
       "      <th>deg-malig</th>\n",
       "      <th>breast</th>\n",
       "      <th>breast-quad</th>\n",
       "      <th>irradiat</th>\n",
       "      <th>relapse</th>\n",
       "    </tr>\n",
       "  </thead>\n",
       "  <tbody>\n",
       "    <tr>\n",
       "      <th>0</th>\n",
       "      <td>30-39</td>\n",
       "      <td>premeno</td>\n",
       "      <td>30-34</td>\n",
       "      <td>0-2</td>\n",
       "      <td>no</td>\n",
       "      <td>3</td>\n",
       "      <td>left</td>\n",
       "      <td>left_low</td>\n",
       "      <td>no</td>\n",
       "      <td>no-recurrence-events</td>\n",
       "    </tr>\n",
       "    <tr>\n",
       "      <th>1</th>\n",
       "      <td>40-49</td>\n",
       "      <td>premeno</td>\n",
       "      <td>20-24</td>\n",
       "      <td>0-2</td>\n",
       "      <td>no</td>\n",
       "      <td>2</td>\n",
       "      <td>right</td>\n",
       "      <td>right_up</td>\n",
       "      <td>no</td>\n",
       "      <td>no-recurrence-events</td>\n",
       "    </tr>\n",
       "    <tr>\n",
       "      <th>2</th>\n",
       "      <td>40-49</td>\n",
       "      <td>premeno</td>\n",
       "      <td>20-24</td>\n",
       "      <td>0-2</td>\n",
       "      <td>no</td>\n",
       "      <td>2</td>\n",
       "      <td>left</td>\n",
       "      <td>left_low</td>\n",
       "      <td>no</td>\n",
       "      <td>no-recurrence-events</td>\n",
       "    </tr>\n",
       "    <tr>\n",
       "      <th>3</th>\n",
       "      <td>60-69</td>\n",
       "      <td>ge40</td>\n",
       "      <td>15-19</td>\n",
       "      <td>0-2</td>\n",
       "      <td>no</td>\n",
       "      <td>2</td>\n",
       "      <td>right</td>\n",
       "      <td>left_up</td>\n",
       "      <td>no</td>\n",
       "      <td>no-recurrence-events</td>\n",
       "    </tr>\n",
       "    <tr>\n",
       "      <th>4</th>\n",
       "      <td>40-49</td>\n",
       "      <td>premeno</td>\n",
       "      <td>0-4</td>\n",
       "      <td>0-2</td>\n",
       "      <td>no</td>\n",
       "      <td>2</td>\n",
       "      <td>right</td>\n",
       "      <td>right_low</td>\n",
       "      <td>no</td>\n",
       "      <td>no-recurrence-events</td>\n",
       "    </tr>\n",
       "    <tr>\n",
       "      <th>...</th>\n",
       "      <td>...</td>\n",
       "      <td>...</td>\n",
       "      <td>...</td>\n",
       "      <td>...</td>\n",
       "      <td>...</td>\n",
       "      <td>...</td>\n",
       "      <td>...</td>\n",
       "      <td>...</td>\n",
       "      <td>...</td>\n",
       "      <td>...</td>\n",
       "    </tr>\n",
       "    <tr>\n",
       "      <th>272</th>\n",
       "      <td>30-39</td>\n",
       "      <td>premeno</td>\n",
       "      <td>30-34</td>\n",
       "      <td>0-2</td>\n",
       "      <td>no</td>\n",
       "      <td>2</td>\n",
       "      <td>left</td>\n",
       "      <td>left_up</td>\n",
       "      <td>no</td>\n",
       "      <td>recurrence-events</td>\n",
       "    </tr>\n",
       "    <tr>\n",
       "      <th>273</th>\n",
       "      <td>30-39</td>\n",
       "      <td>premeno</td>\n",
       "      <td>20-24</td>\n",
       "      <td>0-2</td>\n",
       "      <td>no</td>\n",
       "      <td>3</td>\n",
       "      <td>left</td>\n",
       "      <td>left_up</td>\n",
       "      <td>yes</td>\n",
       "      <td>recurrence-events</td>\n",
       "    </tr>\n",
       "    <tr>\n",
       "      <th>274</th>\n",
       "      <td>60-69</td>\n",
       "      <td>ge40</td>\n",
       "      <td>20-24</td>\n",
       "      <td>0-2</td>\n",
       "      <td>no</td>\n",
       "      <td>1</td>\n",
       "      <td>right</td>\n",
       "      <td>left_up</td>\n",
       "      <td>no</td>\n",
       "      <td>recurrence-events</td>\n",
       "    </tr>\n",
       "    <tr>\n",
       "      <th>275</th>\n",
       "      <td>40-49</td>\n",
       "      <td>ge40</td>\n",
       "      <td>30-34</td>\n",
       "      <td>3-5</td>\n",
       "      <td>no</td>\n",
       "      <td>3</td>\n",
       "      <td>left</td>\n",
       "      <td>left_low</td>\n",
       "      <td>no</td>\n",
       "      <td>recurrence-events</td>\n",
       "    </tr>\n",
       "    <tr>\n",
       "      <th>276</th>\n",
       "      <td>50-59</td>\n",
       "      <td>ge40</td>\n",
       "      <td>30-34</td>\n",
       "      <td>3-5</td>\n",
       "      <td>no</td>\n",
       "      <td>3</td>\n",
       "      <td>left</td>\n",
       "      <td>left_low</td>\n",
       "      <td>no</td>\n",
       "      <td>recurrence-events</td>\n",
       "    </tr>\n",
       "  </tbody>\n",
       "</table>\n",
       "<p>277 rows × 10 columns</p>\n",
       "</div>"
      ],
      "text/plain": [
       "       age menopause tumor-size inv-nodes node-caps  deg-malig breast  \\\n",
       "0    30-39   premeno      30-34       0-2        no          3   left   \n",
       "1    40-49   premeno      20-24       0-2        no          2  right   \n",
       "2    40-49   premeno      20-24       0-2        no          2   left   \n",
       "3    60-69      ge40      15-19       0-2        no          2  right   \n",
       "4    40-49   premeno        0-4       0-2        no          2  right   \n",
       "..     ...       ...        ...       ...       ...        ...    ...   \n",
       "272  30-39   premeno      30-34       0-2        no          2   left   \n",
       "273  30-39   premeno      20-24       0-2        no          3   left   \n",
       "274  60-69      ge40      20-24       0-2        no          1  right   \n",
       "275  40-49      ge40      30-34       3-5        no          3   left   \n",
       "276  50-59      ge40      30-34       3-5        no          3   left   \n",
       "\n",
       "    breast-quad irradiat               relapse  \n",
       "0      left_low       no  no-recurrence-events  \n",
       "1      right_up       no  no-recurrence-events  \n",
       "2      left_low       no  no-recurrence-events  \n",
       "3       left_up       no  no-recurrence-events  \n",
       "4     right_low       no  no-recurrence-events  \n",
       "..          ...      ...                   ...  \n",
       "272     left_up       no     recurrence-events  \n",
       "273     left_up      yes     recurrence-events  \n",
       "274     left_up       no     recurrence-events  \n",
       "275    left_low       no     recurrence-events  \n",
       "276    left_low       no     recurrence-events  \n",
       "\n",
       "[277 rows x 10 columns]"
      ]
     },
     "execution_count": 14,
     "metadata": {},
     "output_type": "execute_result"
    }
   ],
   "source": [
    "df.reset_index(drop=True)"
   ]
  },
  {
   "cell_type": "code",
   "execution_count": 15,
   "id": "aa5f066e-0087-4093-8bfd-1d38967e5b74",
   "metadata": {},
   "outputs": [
    {
     "data": {
      "text/plain": [
       "array(['30-39', '40-49', '60-69', '50-59', '70-79', '20-29'], dtype=object)"
      ]
     },
     "execution_count": 15,
     "metadata": {},
     "output_type": "execute_result"
    }
   ],
   "source": [
    "df['age'].unique()"
   ]
  },
  {
   "cell_type": "code",
   "execution_count": 16,
   "id": "fb3280cf-0631-4f14-b377-8d18c2403868",
   "metadata": {},
   "outputs": [
    {
     "data": {
      "text/plain": [
       "array(['no-recurrence-events', 'recurrence-events'], dtype=object)"
      ]
     },
     "execution_count": 16,
     "metadata": {},
     "output_type": "execute_result"
    }
   ],
   "source": [
    "df['relapse'].unique()"
   ]
  },
  {
   "cell_type": "markdown",
   "id": "1a3e8a76-5554-40c6-a738-b623439df9cf",
   "metadata": {},
   "source": [
    "## Data Preprocessing"
   ]
  },
  {
   "cell_type": "code",
   "execution_count": 18,
   "id": "a9aa1aee-0df3-411a-a9ac-ed83e488b4cb",
   "metadata": {},
   "outputs": [],
   "source": [
    "df2 = df.copy()"
   ]
  },
  {
   "cell_type": "code",
   "execution_count": 19,
   "id": "3b4750bd-2495-4c81-a6ac-ccea94e8d59d",
   "metadata": {},
   "outputs": [
    {
     "name": "stdout",
     "output_type": "stream",
     "text": [
      "     age  menopause  tumor-size  inv-nodes  node-caps  deg-malig  breast  \\\n",
      "0      1          2           5          0          0          3       0   \n",
      "1      2          2           3          0          0          2       1   \n",
      "2      2          2           3          0          0          2       0   \n",
      "3      4          0           2          0          0          2       1   \n",
      "4      2          2           0          0          0          2       1   \n",
      "..   ...        ...         ...        ...        ...        ...     ...   \n",
      "281    1          2           5          0          0          2       0   \n",
      "282    1          2           3          0          0          3       0   \n",
      "283    4          0           3          0          0          1       1   \n",
      "284    2          0           5          4          0          3       0   \n",
      "285    3          0           5          4          0          3       0   \n",
      "\n",
      "     breast-quad  irradiat  relapse  \n",
      "0              1         0        0  \n",
      "1              4         0        0  \n",
      "2              1         0        0  \n",
      "3              2         0        0  \n",
      "4              3         0        0  \n",
      "..           ...       ...      ...  \n",
      "281            2         0        1  \n",
      "282            2         1        1  \n",
      "283            2         0        1  \n",
      "284            1         0        1  \n",
      "285            1         0        1  \n",
      "\n",
      "[277 rows x 10 columns]\n"
     ]
    }
   ],
   "source": [
    "from sklearn.preprocessing import LabelEncoder\n",
    "\n",
    "# Initialize LabelEncoder\n",
    "label_encoder = LabelEncoder()\n",
    "\n",
    "# Loop through each column in the DataFrame\n",
    "for column in df2.columns:\n",
    "    # Check if the column dtype is object (indicating categorical data)\n",
    "    if df2[column].dtype == 'object':\n",
    "        # Fit label encoder and transform values\n",
    "        df2[column] = label_encoder.fit_transform(df2[column])\n",
    "\n",
    "# Display the updated DataFrame\n",
    "print(df2)"
   ]
  },
  {
   "cell_type": "code",
   "execution_count": 20,
   "id": "23b1a8c4-578c-4fed-a8e5-fccc7df33e57",
   "metadata": {},
   "outputs": [
    {
     "data": {
      "text/html": [
       "<div>\n",
       "<style scoped>\n",
       "    .dataframe tbody tr th:only-of-type {\n",
       "        vertical-align: middle;\n",
       "    }\n",
       "\n",
       "    .dataframe tbody tr th {\n",
       "        vertical-align: top;\n",
       "    }\n",
       "\n",
       "    .dataframe thead th {\n",
       "        text-align: right;\n",
       "    }\n",
       "</style>\n",
       "<table border=\"1\" class=\"dataframe\">\n",
       "  <thead>\n",
       "    <tr style=\"text-align: right;\">\n",
       "      <th></th>\n",
       "      <th>age</th>\n",
       "      <th>menopause</th>\n",
       "      <th>tumor-size</th>\n",
       "      <th>inv-nodes</th>\n",
       "      <th>node-caps</th>\n",
       "      <th>deg-malig</th>\n",
       "      <th>breast</th>\n",
       "      <th>breast-quad</th>\n",
       "      <th>irradiat</th>\n",
       "      <th>relapse</th>\n",
       "    </tr>\n",
       "  </thead>\n",
       "  <tbody>\n",
       "    <tr>\n",
       "      <th>0</th>\n",
       "      <td>1</td>\n",
       "      <td>2</td>\n",
       "      <td>5</td>\n",
       "      <td>0</td>\n",
       "      <td>0</td>\n",
       "      <td>3</td>\n",
       "      <td>0</td>\n",
       "      <td>1</td>\n",
       "      <td>0</td>\n",
       "      <td>0</td>\n",
       "    </tr>\n",
       "    <tr>\n",
       "      <th>1</th>\n",
       "      <td>2</td>\n",
       "      <td>2</td>\n",
       "      <td>3</td>\n",
       "      <td>0</td>\n",
       "      <td>0</td>\n",
       "      <td>2</td>\n",
       "      <td>1</td>\n",
       "      <td>4</td>\n",
       "      <td>0</td>\n",
       "      <td>0</td>\n",
       "    </tr>\n",
       "    <tr>\n",
       "      <th>2</th>\n",
       "      <td>2</td>\n",
       "      <td>2</td>\n",
       "      <td>3</td>\n",
       "      <td>0</td>\n",
       "      <td>0</td>\n",
       "      <td>2</td>\n",
       "      <td>0</td>\n",
       "      <td>1</td>\n",
       "      <td>0</td>\n",
       "      <td>0</td>\n",
       "    </tr>\n",
       "    <tr>\n",
       "      <th>3</th>\n",
       "      <td>4</td>\n",
       "      <td>0</td>\n",
       "      <td>2</td>\n",
       "      <td>0</td>\n",
       "      <td>0</td>\n",
       "      <td>2</td>\n",
       "      <td>1</td>\n",
       "      <td>2</td>\n",
       "      <td>0</td>\n",
       "      <td>0</td>\n",
       "    </tr>\n",
       "    <tr>\n",
       "      <th>4</th>\n",
       "      <td>2</td>\n",
       "      <td>2</td>\n",
       "      <td>0</td>\n",
       "      <td>0</td>\n",
       "      <td>0</td>\n",
       "      <td>2</td>\n",
       "      <td>1</td>\n",
       "      <td>3</td>\n",
       "      <td>0</td>\n",
       "      <td>0</td>\n",
       "    </tr>\n",
       "  </tbody>\n",
       "</table>\n",
       "</div>"
      ],
      "text/plain": [
       "   age  menopause  tumor-size  inv-nodes  node-caps  deg-malig  breast  \\\n",
       "0    1          2           5          0          0          3       0   \n",
       "1    2          2           3          0          0          2       1   \n",
       "2    2          2           3          0          0          2       0   \n",
       "3    4          0           2          0          0          2       1   \n",
       "4    2          2           0          0          0          2       1   \n",
       "\n",
       "   breast-quad  irradiat  relapse  \n",
       "0            1         0        0  \n",
       "1            4         0        0  \n",
       "2            1         0        0  \n",
       "3            2         0        0  \n",
       "4            3         0        0  "
      ]
     },
     "execution_count": 20,
     "metadata": {},
     "output_type": "execute_result"
    }
   ],
   "source": [
    "df2.head()"
   ]
  },
  {
   "cell_type": "code",
   "execution_count": 343,
   "id": "d00d3123-2c5f-4158-954f-a11f4c7304ce",
   "metadata": {},
   "outputs": [
    {
     "data": {
      "text/plain": [
       "array([[5, 0, 0, 3, 0],\n",
       "       [3, 0, 0, 2, 0],\n",
       "       [3, 0, 0, 2, 0],\n",
       "       [2, 0, 0, 2, 0],\n",
       "       [0, 0, 0, 2, 0]], dtype=int64)"
      ]
     },
     "execution_count": 343,
     "metadata": {},
     "output_type": "execute_result"
    }
   ],
   "source": [
    "X = df2[['tumor-size', 'inv-nodes', 'node-caps', 'deg-malig', 'irradiat']].values\n",
    "X[0:5]"
   ]
  },
  {
   "cell_type": "code",
   "execution_count": 344,
   "id": "758d236d-47d9-4049-b664-ba62747f1c6b",
   "metadata": {},
   "outputs": [],
   "source": [
    "y = df2['relapse'].values"
   ]
  },
  {
   "cell_type": "code",
   "execution_count": 345,
   "id": "e36b0224-e438-4ee1-946e-2659bc8a221e",
   "metadata": {},
   "outputs": [
    {
     "data": {
      "text/plain": [
       "array([0, 0, 0, 0, 0])"
      ]
     },
     "execution_count": 345,
     "metadata": {},
     "output_type": "execute_result"
    }
   ],
   "source": [
    "y[0:5]"
   ]
  },
  {
   "cell_type": "code",
   "execution_count": 346,
   "id": "f8878448-323f-4e17-80ba-44269cdf813b",
   "metadata": {},
   "outputs": [
    {
     "data": {
      "text/plain": [
       "array([0, 1])"
      ]
     },
     "execution_count": 346,
     "metadata": {},
     "output_type": "execute_result"
    }
   ],
   "source": [
    "df2['relapse'].unique()"
   ]
  },
  {
   "cell_type": "code",
   "execution_count": 347,
   "id": "040f10cc-efa0-4e96-9d9c-d062c54be1ec",
   "metadata": {},
   "outputs": [
    {
     "data": {
      "text/plain": [
       "array([1, 2, 4, 3, 5, 0])"
      ]
     },
     "execution_count": 347,
     "metadata": {},
     "output_type": "execute_result"
    }
   ],
   "source": [
    "df2['age'].unique()"
   ]
  },
  {
   "cell_type": "code",
   "execution_count": 348,
   "id": "5a7a4c60-c104-40c4-b860-be56113b0025",
   "metadata": {},
   "outputs": [
    {
     "data": {
      "text/plain": [
       "array([2, 0, 1])"
      ]
     },
     "execution_count": 348,
     "metadata": {},
     "output_type": "execute_result"
    }
   ],
   "source": [
    "df2['menopause'].unique()"
   ]
  },
  {
   "cell_type": "code",
   "execution_count": 349,
   "id": "b25f8d9d-8102-4ef9-bf60-e6a13cbc480e",
   "metadata": {},
   "outputs": [
    {
     "data": {
      "text/plain": [
       "array([ 5,  3,  2,  0,  4, 10,  1,  7,  6,  9,  8])"
      ]
     },
     "execution_count": 349,
     "metadata": {},
     "output_type": "execute_result"
    }
   ],
   "source": [
    "df2['tumor-size'].unique()"
   ]
  },
  {
   "cell_type": "code",
   "execution_count": 350,
   "id": "5cac0984-fcb0-4fea-9223-793ced514065",
   "metadata": {},
   "outputs": [
    {
     "data": {
      "text/plain": [
       "array([0, 5, 6, 4, 2, 1, 3])"
      ]
     },
     "execution_count": 350,
     "metadata": {},
     "output_type": "execute_result"
    }
   ],
   "source": [
    "df2['inv-nodes'].unique()"
   ]
  },
  {
   "cell_type": "code",
   "execution_count": 351,
   "id": "23e2aee3-0524-4678-9843-6ba0effef7ea",
   "metadata": {},
   "outputs": [
    {
     "data": {
      "text/plain": [
       "array([0, 1])"
      ]
     },
     "execution_count": 351,
     "metadata": {},
     "output_type": "execute_result"
    }
   ],
   "source": [
    "df2['node-caps'].unique()"
   ]
  },
  {
   "cell_type": "code",
   "execution_count": 352,
   "id": "0791a415-8a21-4c5f-8bbe-692ee402411a",
   "metadata": {},
   "outputs": [
    {
     "data": {
      "text/plain": [
       "array([3, 2, 1], dtype=int64)"
      ]
     },
     "execution_count": 352,
     "metadata": {},
     "output_type": "execute_result"
    }
   ],
   "source": [
    "df2['deg-malig'].unique()"
   ]
  },
  {
   "cell_type": "code",
   "execution_count": 353,
   "id": "c6c184b5-c8b0-4b56-bba9-dbd726dcb85b",
   "metadata": {},
   "outputs": [
    {
     "data": {
      "text/plain": [
       "array([0, 1])"
      ]
     },
     "execution_count": 353,
     "metadata": {},
     "output_type": "execute_result"
    }
   ],
   "source": [
    "df2['breast'].unique()"
   ]
  },
  {
   "cell_type": "code",
   "execution_count": 354,
   "id": "2b7b9325-a36c-4890-b519-d15b2cc0dbc3",
   "metadata": {},
   "outputs": [
    {
     "data": {
      "text/plain": [
       "array([1, 4, 2, 3, 0])"
      ]
     },
     "execution_count": 354,
     "metadata": {},
     "output_type": "execute_result"
    }
   ],
   "source": [
    "df2['breast-quad'].unique()"
   ]
  },
  {
   "cell_type": "code",
   "execution_count": 355,
   "id": "31e33acb-4631-47f1-876e-3cd051dc87eb",
   "metadata": {},
   "outputs": [
    {
     "data": {
      "text/plain": [
       "array([0, 1])"
      ]
     },
     "execution_count": 355,
     "metadata": {},
     "output_type": "execute_result"
    }
   ],
   "source": [
    "df2['irradiat'].unique()"
   ]
  },
  {
   "cell_type": "code",
   "execution_count": 356,
   "id": "9a14d927-db16-47e1-adbd-615301284e87",
   "metadata": {},
   "outputs": [
    {
     "name": "stdout",
     "output_type": "stream",
     "text": [
      "Train set: (221, 5) (221,)\n",
      "Test set: (56, 5) (56,)\n"
     ]
    }
   ],
   "source": [
    "from sklearn.model_selection import train_test_split\n",
    "X_train, X_test, y_train, y_test = train_test_split( X, y, test_size=0.2, stratify = y, random_state=4)\n",
    "print ('Train set:', X_train.shape,  y_train.shape)\n",
    "print ('Test set:', X_test.shape,  y_test.shape)"
   ]
  },
  {
   "cell_type": "markdown",
   "id": "dcfc37d9",
   "metadata": {},
   "source": [
    "## Evaluating Correlation Between Predictor and Target Variables"
   ]
  },
  {
   "cell_type": "code",
   "execution_count": 357,
   "id": "5005e2e0",
   "metadata": {},
   "outputs": [
    {
     "name": "stdout",
     "output_type": "stream",
     "text": [
      "Cramér's V: 0.15223702043024515\n"
     ]
    }
   ],
   "source": [
    "import pandas as pd\n",
    "from scipy.stats import chi2_contingency\n",
    "\n",
    "# Example DataFrame with multiple categorical variables\n",
    "\n",
    "# Create a contingency table\n",
    "contingency_table = pd.crosstab(\n",
    "    df['relapse'],\n",
    "    [\n",
    "        df['age'],\n",
    "    ]\n",
    ")\n",
    "observed_chi2, _, _, _ = chi2_contingency(contingency_table)\n",
    "n = contingency_table.sum().sum()\n",
    "min_dim = min(contingency_table.shape) - 1\n",
    "cramers_v = np.sqrt(observed_chi2 / (n * min_dim))\n",
    "\n",
    "print(f\"Cramér's V: {cramers_v}\")"
   ]
  },
  {
   "cell_type": "code",
   "execution_count": 358,
   "id": "3450869f",
   "metadata": {},
   "outputs": [
    {
     "name": "stdout",
     "output_type": "stream",
     "text": [
      "Cramér's V: 0.10491168418085384\n"
     ]
    }
   ],
   "source": [
    "contingency_table = pd.crosstab(\n",
    "    df['relapse'],\n",
    "    [\n",
    "        df['menopause'],\n",
    "    ]\n",
    ")\n",
    "observed_chi2, _, _, _ = chi2_contingency(contingency_table)\n",
    "n = contingency_table.sum().sum()\n",
    "min_dim = min(contingency_table.shape) - 1\n",
    "cramers_v = np.sqrt(observed_chi2 / (n * min_dim))\n",
    "\n",
    "print(f\"Cramér's V: {cramers_v}\")"
   ]
  },
  {
   "cell_type": "code",
   "execution_count": 359,
   "id": "61352863",
   "metadata": {},
   "outputs": [
    {
     "name": "stdout",
     "output_type": "stream",
     "text": [
      "Cramér's V: 0.26190299923884897\n"
     ]
    }
   ],
   "source": [
    "contingency_table = pd.crosstab(\n",
    "    df['relapse'],\n",
    "    [\n",
    "        df['tumor-size'],\n",
    "    ]\n",
    ")\n",
    "observed_chi2, _, _, _ = chi2_contingency(contingency_table)\n",
    "n = contingency_table.sum().sum()\n",
    "min_dim = min(contingency_table.shape) - 1\n",
    "cramers_v = np.sqrt(observed_chi2 / (n * min_dim))\n",
    "\n",
    "print(f\"Cramér's V: {cramers_v}\")"
   ]
  },
  {
   "cell_type": "code",
   "execution_count": 360,
   "id": "5cd7880b",
   "metadata": {},
   "outputs": [
    {
     "name": "stdout",
     "output_type": "stream",
     "text": [
      "Cramér's V: 0.34817844106844337\n"
     ]
    }
   ],
   "source": [
    "contingency_table = pd.crosstab(\n",
    "    df['relapse'],\n",
    "    [\n",
    "        df['inv-nodes'],\n",
    "    ]\n",
    ")\n",
    "observed_chi2, _, _, _ = chi2_contingency(contingency_table)\n",
    "n = contingency_table.sum().sum()\n",
    "min_dim = min(contingency_table.shape) - 1\n",
    "cramers_v = np.sqrt(observed_chi2 / (n * min_dim))\n",
    "\n",
    "print(f\"Cramér's V: {cramers_v}\")"
   ]
  },
  {
   "cell_type": "code",
   "execution_count": 361,
   "id": "1efb3cde",
   "metadata": {},
   "outputs": [
    {
     "name": "stdout",
     "output_type": "stream",
     "text": [
      "Cramér's V: 0.279121734421927\n"
     ]
    }
   ],
   "source": [
    "contingency_table = pd.crosstab(\n",
    "    df['relapse'],\n",
    "    [\n",
    "        df['node-caps'],\n",
    "    ]\n",
    ")\n",
    "observed_chi2, _, _, _ = chi2_contingency(contingency_table)\n",
    "n = contingency_table.sum().sum()\n",
    "min_dim = min(contingency_table.shape) - 1\n",
    "cramers_v = np.sqrt(observed_chi2 / (n * min_dim))\n",
    "\n",
    "print(f\"Cramér's V: {cramers_v}\")"
   ]
  },
  {
   "cell_type": "code",
   "execution_count": 362,
   "id": "af6c545e",
   "metadata": {},
   "outputs": [
    {
     "name": "stdout",
     "output_type": "stream",
     "text": [
      "Cramér's V: 0.3551380993117548\n"
     ]
    }
   ],
   "source": [
    "contingency_table = pd.crosstab(\n",
    "    df['relapse'],\n",
    "    [\n",
    "        df['deg-malig'],\n",
    "    ]\n",
    ")\n",
    "observed_chi2, _, _, _ = chi2_contingency(contingency_table)\n",
    "n = contingency_table.sum().sum()\n",
    "min_dim = min(contingency_table.shape) - 1\n",
    "cramers_v = np.sqrt(observed_chi2 / (n * min_dim))\n",
    "\n",
    "print(f\"Cramér's V: {cramers_v}\")"
   ]
  },
  {
   "cell_type": "code",
   "execution_count": 363,
   "id": "21a4995b",
   "metadata": {},
   "outputs": [
    {
     "name": "stdout",
     "output_type": "stream",
     "text": [
      "Cramér's V: 0.03335863006621423\n"
     ]
    }
   ],
   "source": [
    "contingency_table = pd.crosstab(\n",
    "    df['relapse'],\n",
    "    [\n",
    "        df['breast'],\n",
    "    ]\n",
    ")\n",
    "observed_chi2, _, _, _ = chi2_contingency(contingency_table)\n",
    "n = contingency_table.sum().sum()\n",
    "min_dim = min(contingency_table.shape) - 1\n",
    "cramers_v = np.sqrt(observed_chi2 / (n * min_dim))\n",
    "\n",
    "print(f\"Cramér's V: {cramers_v}\")"
   ]
  },
  {
   "cell_type": "code",
   "execution_count": 364,
   "id": "47d27dc1",
   "metadata": {},
   "outputs": [
    {
     "name": "stdout",
     "output_type": "stream",
     "text": [
      "Cramér's V: 0.10931857122458373\n"
     ]
    }
   ],
   "source": [
    "contingency_table = pd.crosstab(\n",
    "    df['relapse'],\n",
    "    [\n",
    "        df['breast-quad'],\n",
    "    ]\n",
    ")\n",
    "observed_chi2, _, _, _ = chi2_contingency(contingency_table)\n",
    "n = contingency_table.sum().sum()\n",
    "min_dim = min(contingency_table.shape) - 1\n",
    "cramers_v = np.sqrt(observed_chi2 / (n * min_dim))\n",
    "\n",
    "print(f\"Cramér's V: {cramers_v}\")"
   ]
  },
  {
   "cell_type": "code",
   "execution_count": 365,
   "id": "04e2ca6c",
   "metadata": {},
   "outputs": [
    {
     "name": "stdout",
     "output_type": "stream",
     "text": [
      "Cramér's V: 0.2164990489313846\n"
     ]
    }
   ],
   "source": [
    "contingency_table = pd.crosstab(\n",
    "    df['relapse'],\n",
    "    [\n",
    "        df['irradiat'],\n",
    "    ]\n",
    ")\n",
    "observed_chi2, _, _, _ = chi2_contingency(contingency_table)\n",
    "n = contingency_table.sum().sum()\n",
    "min_dim = min(contingency_table.shape) - 1\n",
    "cramers_v = np.sqrt(observed_chi2 / (n * min_dim))\n",
    "\n",
    "print(f\"Cramér's V: {cramers_v}\")"
   ]
  },
  {
   "cell_type": "code",
   "execution_count": 366,
   "id": "67caee0f",
   "metadata": {},
   "outputs": [
    {
     "name": "stdout",
     "output_type": "stream",
     "text": [
      "Cramér's V: 0.7375454368962628\n"
     ]
    }
   ],
   "source": [
    "contingency_table = pd.crosstab(\n",
    "    df['relapse'],\n",
    "    [\n",
    "        df['tumor-size'],\n",
    "        df['inv-nodes'],\n",
    "        df['node-caps'],\n",
    "        df['deg-malig'],\n",
    "        df['irradiat'],\n",
    "    ]\n",
    ")\n",
    "observed_chi2, _, _, _ = chi2_contingency(contingency_table)\n",
    "n = contingency_table.sum().sum()\n",
    "min_dim = min(contingency_table.shape) - 1\n",
    "cramers_v = np.sqrt(observed_chi2 / (n * min_dim))\n",
    "\n",
    "print(f\"Cramér's V: {cramers_v}\")"
   ]
  },
  {
   "cell_type": "code",
   "execution_count": 367,
   "id": "83d01b49",
   "metadata": {},
   "outputs": [
    {
     "name": "stdout",
     "output_type": "stream",
     "text": [
      "Cramér's V: 0.9719819376969948\n"
     ]
    }
   ],
   "source": [
    "contingency_table = pd.crosstab(\n",
    "    df['relapse'],\n",
    "    [\n",
    "        df['age'],\n",
    "        df['menopause'],\n",
    "        df['tumor-size'],\n",
    "        df['inv-nodes'],\n",
    "        df['node-caps'],\n",
    "        df['deg-malig'],\n",
    "        df['breast'],\n",
    "        df['breast-quad'],\n",
    "        df['irradiat'],\n",
    "    ]\n",
    ")\n",
    "observed_chi2, _, _, _ = chi2_contingency(contingency_table)\n",
    "n = contingency_table.sum().sum()\n",
    "min_dim = min(contingency_table.shape) - 1\n",
    "cramers_v = np.sqrt(observed_chi2 / (n * min_dim))\n",
    "\n",
    "print(f\"Cramér's V: {cramers_v}\")"
   ]
  },
  {
   "cell_type": "markdown",
   "id": "b7071e61",
   "metadata": {},
   "source": [
    "# Testing ML Models"
   ]
  },
  {
   "cell_type": "markdown",
   "id": "a46bc04a-f8ea-4f2b-a5a4-6f1b98ddc5d7",
   "metadata": {},
   "source": [
    "## K Nearest Neighbors"
   ]
  },
  {
   "cell_type": "code",
   "execution_count": 368,
   "id": "18f52fe4-711d-4f52-b777-ee1114d17ef4",
   "metadata": {},
   "outputs": [
    {
     "data": {
      "text/html": [
       "<style>#sk-container-id-20 {color: black;}#sk-container-id-20 pre{padding: 0;}#sk-container-id-20 div.sk-toggleable {background-color: white;}#sk-container-id-20 label.sk-toggleable__label {cursor: pointer;display: block;width: 100%;margin-bottom: 0;padding: 0.3em;box-sizing: border-box;text-align: center;}#sk-container-id-20 label.sk-toggleable__label-arrow:before {content: \"▸\";float: left;margin-right: 0.25em;color: #696969;}#sk-container-id-20 label.sk-toggleable__label-arrow:hover:before {color: black;}#sk-container-id-20 div.sk-estimator:hover label.sk-toggleable__label-arrow:before {color: black;}#sk-container-id-20 div.sk-toggleable__content {max-height: 0;max-width: 0;overflow: hidden;text-align: left;background-color: #f0f8ff;}#sk-container-id-20 div.sk-toggleable__content pre {margin: 0.2em;color: black;border-radius: 0.25em;background-color: #f0f8ff;}#sk-container-id-20 input.sk-toggleable__control:checked~div.sk-toggleable__content {max-height: 200px;max-width: 100%;overflow: auto;}#sk-container-id-20 input.sk-toggleable__control:checked~label.sk-toggleable__label-arrow:before {content: \"▾\";}#sk-container-id-20 div.sk-estimator input.sk-toggleable__control:checked~label.sk-toggleable__label {background-color: #d4ebff;}#sk-container-id-20 div.sk-label input.sk-toggleable__control:checked~label.sk-toggleable__label {background-color: #d4ebff;}#sk-container-id-20 input.sk-hidden--visually {border: 0;clip: rect(1px 1px 1px 1px);clip: rect(1px, 1px, 1px, 1px);height: 1px;margin: -1px;overflow: hidden;padding: 0;position: absolute;width: 1px;}#sk-container-id-20 div.sk-estimator {font-family: monospace;background-color: #f0f8ff;border: 1px dotted black;border-radius: 0.25em;box-sizing: border-box;margin-bottom: 0.5em;}#sk-container-id-20 div.sk-estimator:hover {background-color: #d4ebff;}#sk-container-id-20 div.sk-parallel-item::after {content: \"\";width: 100%;border-bottom: 1px solid gray;flex-grow: 1;}#sk-container-id-20 div.sk-label:hover label.sk-toggleable__label {background-color: #d4ebff;}#sk-container-id-20 div.sk-serial::before {content: \"\";position: absolute;border-left: 1px solid gray;box-sizing: border-box;top: 0;bottom: 0;left: 50%;z-index: 0;}#sk-container-id-20 div.sk-serial {display: flex;flex-direction: column;align-items: center;background-color: white;padding-right: 0.2em;padding-left: 0.2em;position: relative;}#sk-container-id-20 div.sk-item {position: relative;z-index: 1;}#sk-container-id-20 div.sk-parallel {display: flex;align-items: stretch;justify-content: center;background-color: white;position: relative;}#sk-container-id-20 div.sk-item::before, #sk-container-id-20 div.sk-parallel-item::before {content: \"\";position: absolute;border-left: 1px solid gray;box-sizing: border-box;top: 0;bottom: 0;left: 50%;z-index: -1;}#sk-container-id-20 div.sk-parallel-item {display: flex;flex-direction: column;z-index: 1;position: relative;background-color: white;}#sk-container-id-20 div.sk-parallel-item:first-child::after {align-self: flex-end;width: 50%;}#sk-container-id-20 div.sk-parallel-item:last-child::after {align-self: flex-start;width: 50%;}#sk-container-id-20 div.sk-parallel-item:only-child::after {width: 0;}#sk-container-id-20 div.sk-dashed-wrapped {border: 1px dashed gray;margin: 0 0.4em 0.5em 0.4em;box-sizing: border-box;padding-bottom: 0.4em;background-color: white;}#sk-container-id-20 div.sk-label label {font-family: monospace;font-weight: bold;display: inline-block;line-height: 1.2em;}#sk-container-id-20 div.sk-label-container {text-align: center;}#sk-container-id-20 div.sk-container {/* jupyter's `normalize.less` sets `[hidden] { display: none; }` but bootstrap.min.css set `[hidden] { display: none !important; }` so we also need the `!important` here to be able to override the default hidden behavior on the sphinx rendered scikit-learn.org. See: https://github.com/scikit-learn/scikit-learn/issues/21755 */display: inline-block !important;position: relative;}#sk-container-id-20 div.sk-text-repr-fallback {display: none;}</style><div id=\"sk-container-id-20\" class=\"sk-top-container\"><div class=\"sk-text-repr-fallback\"><pre>KNeighborsClassifier(n_neighbors=4)</pre><b>In a Jupyter environment, please rerun this cell to show the HTML representation or trust the notebook. <br />On GitHub, the HTML representation is unable to render, please try loading this page with nbviewer.org.</b></div><div class=\"sk-container\" hidden><div class=\"sk-item\"><div class=\"sk-estimator sk-toggleable\"><input class=\"sk-toggleable__control sk-hidden--visually\" id=\"sk-estimator-id-20\" type=\"checkbox\" checked><label for=\"sk-estimator-id-20\" class=\"sk-toggleable__label sk-toggleable__label-arrow\">KNeighborsClassifier</label><div class=\"sk-toggleable__content\"><pre>KNeighborsClassifier(n_neighbors=4)</pre></div></div></div></div></div>"
      ],
      "text/plain": [
       "KNeighborsClassifier(n_neighbors=4)"
      ]
     },
     "execution_count": 368,
     "metadata": {},
     "output_type": "execute_result"
    }
   ],
   "source": [
    "KNN = KNeighborsClassifier(n_neighbors=4)\n",
    "KNN.fit(X_train, y_train)"
   ]
  },
  {
   "cell_type": "code",
   "execution_count": 369,
   "id": "0f313896-e989-43dd-a459-f6b22cc1e92a",
   "metadata": {},
   "outputs": [],
   "source": [
    "predictions_knn = KNN.predict(X_test)"
   ]
  },
  {
   "cell_type": "code",
   "execution_count": 370,
   "id": "e5dae26d-3127-4607-a717-44fb0a2bfa2e",
   "metadata": {},
   "outputs": [],
   "source": [
    "KNN_Accuracy_Score = metrics.accuracy_score(predictions_knn, y_test)\n",
    "KNN_JaccardIndex = metrics.jaccard_score(predictions_knn, y_test)\n",
    "KNN_F1_Score = metrics.f1_score(predictions_knn, y_test)"
   ]
  },
  {
   "cell_type": "code",
   "execution_count": 371,
   "id": "0c41e795-750c-4fa4-990f-8fe18ea1e8c8",
   "metadata": {},
   "outputs": [
    {
     "name": "stdout",
     "output_type": "stream",
     "text": [
      "Train set Accuracy:  0.7647058823529411\n",
      "Test set Accuracy:  0.7857142857142857\n"
     ]
    }
   ],
   "source": [
    "from sklearn import metrics\n",
    "print(\"Train set Accuracy: \", metrics.accuracy_score(y_train, KNN.predict(X_train)))\n",
    "print(\"Test set Accuracy: \", metrics.accuracy_score(y_test, predictions_knn))"
   ]
  },
  {
   "cell_type": "code",
   "execution_count": 372,
   "id": "c769a916-9e5b-491e-bc3b-484ef077cf91",
   "metadata": {},
   "outputs": [
    {
     "data": {
      "image/png": "[encoded data removed]",
      "text/plain": [
       "<Figure size 1000x600 with 2 Axes>"
      ]
     },
     "metadata": {},
     "output_type": "display_data"
    },
    {
     "name": "stdout",
     "output_type": "stream",
     "text": [
      "Train set Accuracy:  0.7647058823529411\n",
      "Test set Accuracy:  0.7857142857142857\n",
      "Jaccard Score:  0.3333333333333333\n",
      "F1 Score:  0.5\n"
     ]
    }
   ],
   "source": [
    "# Calculate confusion matrix\n",
    "conf_matrix = confusion_matrix(y_test, predictions_knn)\n",
    "\n",
    "# Plot confusion matrix with color bar on the right side\n",
    "plt.figure(figsize=(10, 6))\n",
    "sns.heatmap(conf_matrix, annot=True, fmt=\"d\", cmap=\"Blues\", cbar=True, cbar_kws={'orientation': 'vertical'}, square=True)\n",
    "plt.title(\"Confusion Matrix for K Nearest Neighbors\")\n",
    "plt.xlabel(\"Predicted Labels\")\n",
    "plt.ylabel(\"True Labels\")\n",
    "plt.show()\n",
    "\n",
    "# Additional accuracy printing\n",
    "train_accuracy = accuracy_score(y_train, KNN.predict(X_train))\n",
    "test_accuracy = accuracy_score(y_test, predictions_knn)\n",
    "jaccard = jaccard_score(y_test, predictions_knn)\n",
    "f1 = f1_score(y_test, predictions_knn)\n",
    "\n",
    "print(\"Train set Accuracy: \", train_accuracy)\n",
    "print(\"Test set Accuracy: \", test_accuracy)\n",
    "print(\"Jaccard Score: \", jaccard)\n",
    "print(\"F1 Score: \", f1)"
   ]
  },
  {
   "cell_type": "markdown",
   "id": "3e24617e-4311-45fd-9333-26d7ab91865d",
   "metadata": {},
   "source": [
    "## Decision Tree ##"
   ]
  },
  {
   "cell_type": "code",
   "execution_count": 373,
   "id": "57d3b171-1069-451c-82e5-39105fe141f0",
   "metadata": {},
   "outputs": [
    {
     "data": {
      "text/html": [
       "<style>#sk-container-id-21 {color: black;}#sk-container-id-21 pre{padding: 0;}#sk-container-id-21 div.sk-toggleable {background-color: white;}#sk-container-id-21 label.sk-toggleable__label {cursor: pointer;display: block;width: 100%;margin-bottom: 0;padding: 0.3em;box-sizing: border-box;text-align: center;}#sk-container-id-21 label.sk-toggleable__label-arrow:before {content: \"▸\";float: left;margin-right: 0.25em;color: #696969;}#sk-container-id-21 label.sk-toggleable__label-arrow:hover:before {color: black;}#sk-container-id-21 div.sk-estimator:hover label.sk-toggleable__label-arrow:before {color: black;}#sk-container-id-21 div.sk-toggleable__content {max-height: 0;max-width: 0;overflow: hidden;text-align: left;background-color: #f0f8ff;}#sk-container-id-21 div.sk-toggleable__content pre {margin: 0.2em;color: black;border-radius: 0.25em;background-color: #f0f8ff;}#sk-container-id-21 input.sk-toggleable__control:checked~div.sk-toggleable__content {max-height: 200px;max-width: 100%;overflow: auto;}#sk-container-id-21 input.sk-toggleable__control:checked~label.sk-toggleable__label-arrow:before {content: \"▾\";}#sk-container-id-21 div.sk-estimator input.sk-toggleable__control:checked~label.sk-toggleable__label {background-color: #d4ebff;}#sk-container-id-21 div.sk-label input.sk-toggleable__control:checked~label.sk-toggleable__label {background-color: #d4ebff;}#sk-container-id-21 input.sk-hidden--visually {border: 0;clip: rect(1px 1px 1px 1px);clip: rect(1px, 1px, 1px, 1px);height: 1px;margin: -1px;overflow: hidden;padding: 0;position: absolute;width: 1px;}#sk-container-id-21 div.sk-estimator {font-family: monospace;background-color: #f0f8ff;border: 1px dotted black;border-radius: 0.25em;box-sizing: border-box;margin-bottom: 0.5em;}#sk-container-id-21 div.sk-estimator:hover {background-color: #d4ebff;}#sk-container-id-21 div.sk-parallel-item::after {content: \"\";width: 100%;border-bottom: 1px solid gray;flex-grow: 1;}#sk-container-id-21 div.sk-label:hover label.sk-toggleable__label {background-color: #d4ebff;}#sk-container-id-21 div.sk-serial::before {content: \"\";position: absolute;border-left: 1px solid gray;box-sizing: border-box;top: 0;bottom: 0;left: 50%;z-index: 0;}#sk-container-id-21 div.sk-serial {display: flex;flex-direction: column;align-items: center;background-color: white;padding-right: 0.2em;padding-left: 0.2em;position: relative;}#sk-container-id-21 div.sk-item {position: relative;z-index: 1;}#sk-container-id-21 div.sk-parallel {display: flex;align-items: stretch;justify-content: center;background-color: white;position: relative;}#sk-container-id-21 div.sk-item::before, #sk-container-id-21 div.sk-parallel-item::before {content: \"\";position: absolute;border-left: 1px solid gray;box-sizing: border-box;top: 0;bottom: 0;left: 50%;z-index: -1;}#sk-container-id-21 div.sk-parallel-item {display: flex;flex-direction: column;z-index: 1;position: relative;background-color: white;}#sk-container-id-21 div.sk-parallel-item:first-child::after {align-self: flex-end;width: 50%;}#sk-container-id-21 div.sk-parallel-item:last-child::after {align-self: flex-start;width: 50%;}#sk-container-id-21 div.sk-parallel-item:only-child::after {width: 0;}#sk-container-id-21 div.sk-dashed-wrapped {border: 1px dashed gray;margin: 0 0.4em 0.5em 0.4em;box-sizing: border-box;padding-bottom: 0.4em;background-color: white;}#sk-container-id-21 div.sk-label label {font-family: monospace;font-weight: bold;display: inline-block;line-height: 1.2em;}#sk-container-id-21 div.sk-label-container {text-align: center;}#sk-container-id-21 div.sk-container {/* jupyter's `normalize.less` sets `[hidden] { display: none; }` but bootstrap.min.css set `[hidden] { display: none !important; }` so we also need the `!important` here to be able to override the default hidden behavior on the sphinx rendered scikit-learn.org. See: https://github.com/scikit-learn/scikit-learn/issues/21755 */display: inline-block !important;position: relative;}#sk-container-id-21 div.sk-text-repr-fallback {display: none;}</style><div id=\"sk-container-id-21\" class=\"sk-top-container\"><div class=\"sk-text-repr-fallback\"><pre>DecisionTreeClassifier()</pre><b>In a Jupyter environment, please rerun this cell to show the HTML representation or trust the notebook. <br />On GitHub, the HTML representation is unable to render, please try loading this page with nbviewer.org.</b></div><div class=\"sk-container\" hidden><div class=\"sk-item\"><div class=\"sk-estimator sk-toggleable\"><input class=\"sk-toggleable__control sk-hidden--visually\" id=\"sk-estimator-id-21\" type=\"checkbox\" checked><label for=\"sk-estimator-id-21\" class=\"sk-toggleable__label sk-toggleable__label-arrow\">DecisionTreeClassifier</label><div class=\"sk-toggleable__content\"><pre>DecisionTreeClassifier()</pre></div></div></div></div></div>"
      ],
      "text/plain": [
       "DecisionTreeClassifier()"
      ]
     },
     "execution_count": 373,
     "metadata": {},
     "output_type": "execute_result"
    }
   ],
   "source": [
    "Tree = DecisionTreeClassifier()\n",
    "Tree.fit(X_train, y_train)"
   ]
  },
  {
   "cell_type": "code",
   "execution_count": 374,
   "id": "097c18be-cbba-41b9-a7eb-e870b7d3237a",
   "metadata": {},
   "outputs": [],
   "source": [
    "predictions_tree = Tree.predict(X_test)"
   ]
  },
  {
   "cell_type": "code",
   "execution_count": 375,
   "id": "a903c3a6-b980-4e2d-aa03-901f585ed52a",
   "metadata": {},
   "outputs": [],
   "source": [
    "Tree_Accuracy_Score = metrics.accuracy_score(predictions_tree, y_test)\n",
    "Tree_JaccardIndex = metrics.jaccard_score(predictions_tree, y_test)\n",
    "Tree_F1_Score = metrics.f1_score(predictions_tree, y_test)"
   ]
  },
  {
   "cell_type": "code",
   "execution_count": 376,
   "id": "f54f82c3-6ea1-45f3-bb42-dd1847d1e18c",
   "metadata": {},
   "outputs": [
    {
     "name": "stdout",
     "output_type": "stream",
     "text": [
      "Train set Accuracy:  0.8552036199095022\n",
      "Test set Accuracy:  0.7857142857142857\n"
     ]
    }
   ],
   "source": [
    "from sklearn import metrics\n",
    "print(\"Train set Accuracy: \", metrics.accuracy_score(y_train, Tree.predict(X_train)))\n",
    "print(\"Test set Accuracy: \", metrics.accuracy_score(y_test, predictions_tree))"
   ]
  },
  {
   "cell_type": "code",
   "execution_count": 377,
   "id": "ea040f14-370e-48a4-b9f7-567d4e5134e0",
   "metadata": {},
   "outputs": [
    {
     "data": {
      "image/png": "[encoded data removed]",
      "text/plain": [
       "<Figure size 800x600 with 2 Axes>"
      ]
     },
     "metadata": {},
     "output_type": "display_data"
    },
    {
     "name": "stdout",
     "output_type": "stream",
     "text": [
      "Train set Accuracy:  0.8552036199095022\n",
      "Test set Accuracy:  0.7857142857142857\n",
      "Jaccard Score:  0.4\n",
      "F1 Score:  0.5714285714285715\n"
     ]
    }
   ],
   "source": [
    "# Calculate confusion matrix\n",
    "conf_matrix_tree = confusion_matrix(y_test, predictions_tree)\n",
    "\n",
    "# Plot confusion matrix with color bar on the right side\n",
    "plt.figure(figsize=(8, 6))\n",
    "sns.heatmap(conf_matrix_tree, annot=True, fmt=\"d\", cmap=\"Blues\", cbar=True, cbar_kws={'orientation': 'vertical'})\n",
    "plt.title(\"Confusion Matrix for Decision Tree\")\n",
    "plt.xlabel(\"Predicted Labels\")\n",
    "plt.ylabel(\"True Labels\")\n",
    "plt.show()\n",
    "\n",
    "# Additional accuracy printing\n",
    "train_accuracy_tree = accuracy_score(y_train, Tree.predict(X_train))\n",
    "test_accuracy_tree = accuracy_score(y_test, predictions_tree)\n",
    "jaccard_tree = jaccard_score(y_test, predictions_tree)\n",
    "f1_tree = f1_score(y_test, predictions_tree)\n",
    "\n",
    "print(\"Train set Accuracy: \", train_accuracy_tree)\n",
    "print(\"Test set Accuracy: \", test_accuracy_tree)\n",
    "print(\"Jaccard Score: \", jaccard_tree)\n",
    "print(\"F1 Score: \", f1_tree)"
   ]
  },
  {
   "cell_type": "markdown",
   "id": "daa65a01-cca2-4b76-9f44-b86272568487",
   "metadata": {},
   "source": [
    "## Logistic Regression ##"
   ]
  },
  {
   "cell_type": "code",
   "execution_count": 378,
   "id": "043a0092-eeeb-4d78-bd0e-e1def080db5d",
   "metadata": {},
   "outputs": [
    {
     "data": {
      "text/html": [
       "<style>#sk-container-id-22 {color: black;}#sk-container-id-22 pre{padding: 0;}#sk-container-id-22 div.sk-toggleable {background-color: white;}#sk-container-id-22 label.sk-toggleable__label {cursor: pointer;display: block;width: 100%;margin-bottom: 0;padding: 0.3em;box-sizing: border-box;text-align: center;}#sk-container-id-22 label.sk-toggleable__label-arrow:before {content: \"▸\";float: left;margin-right: 0.25em;color: #696969;}#sk-container-id-22 label.sk-toggleable__label-arrow:hover:before {color: black;}#sk-container-id-22 div.sk-estimator:hover label.sk-toggleable__label-arrow:before {color: black;}#sk-container-id-22 div.sk-toggleable__content {max-height: 0;max-width: 0;overflow: hidden;text-align: left;background-color: #f0f8ff;}#sk-container-id-22 div.sk-toggleable__content pre {margin: 0.2em;color: black;border-radius: 0.25em;background-color: #f0f8ff;}#sk-container-id-22 input.sk-toggleable__control:checked~div.sk-toggleable__content {max-height: 200px;max-width: 100%;overflow: auto;}#sk-container-id-22 input.sk-toggleable__control:checked~label.sk-toggleable__label-arrow:before {content: \"▾\";}#sk-container-id-22 div.sk-estimator input.sk-toggleable__control:checked~label.sk-toggleable__label {background-color: #d4ebff;}#sk-container-id-22 div.sk-label input.sk-toggleable__control:checked~label.sk-toggleable__label {background-color: #d4ebff;}#sk-container-id-22 input.sk-hidden--visually {border: 0;clip: rect(1px 1px 1px 1px);clip: rect(1px, 1px, 1px, 1px);height: 1px;margin: -1px;overflow: hidden;padding: 0;position: absolute;width: 1px;}#sk-container-id-22 div.sk-estimator {font-family: monospace;background-color: #f0f8ff;border: 1px dotted black;border-radius: 0.25em;box-sizing: border-box;margin-bottom: 0.5em;}#sk-container-id-22 div.sk-estimator:hover {background-color: #d4ebff;}#sk-container-id-22 div.sk-parallel-item::after {content: \"\";width: 100%;border-bottom: 1px solid gray;flex-grow: 1;}#sk-container-id-22 div.sk-label:hover label.sk-toggleable__label {background-color: #d4ebff;}#sk-container-id-22 div.sk-serial::before {content: \"\";position: absolute;border-left: 1px solid gray;box-sizing: border-box;top: 0;bottom: 0;left: 50%;z-index: 0;}#sk-container-id-22 div.sk-serial {display: flex;flex-direction: column;align-items: center;background-color: white;padding-right: 0.2em;padding-left: 0.2em;position: relative;}#sk-container-id-22 div.sk-item {position: relative;z-index: 1;}#sk-container-id-22 div.sk-parallel {display: flex;align-items: stretch;justify-content: center;background-color: white;position: relative;}#sk-container-id-22 div.sk-item::before, #sk-container-id-22 div.sk-parallel-item::before {content: \"\";position: absolute;border-left: 1px solid gray;box-sizing: border-box;top: 0;bottom: 0;left: 50%;z-index: -1;}#sk-container-id-22 div.sk-parallel-item {display: flex;flex-direction: column;z-index: 1;position: relative;background-color: white;}#sk-container-id-22 div.sk-parallel-item:first-child::after {align-self: flex-end;width: 50%;}#sk-container-id-22 div.sk-parallel-item:last-child::after {align-self: flex-start;width: 50%;}#sk-container-id-22 div.sk-parallel-item:only-child::after {width: 0;}#sk-container-id-22 div.sk-dashed-wrapped {border: 1px dashed gray;margin: 0 0.4em 0.5em 0.4em;box-sizing: border-box;padding-bottom: 0.4em;background-color: white;}#sk-container-id-22 div.sk-label label {font-family: monospace;font-weight: bold;display: inline-block;line-height: 1.2em;}#sk-container-id-22 div.sk-label-container {text-align: center;}#sk-container-id-22 div.sk-container {/* jupyter's `normalize.less` sets `[hidden] { display: none; }` but bootstrap.min.css set `[hidden] { display: none !important; }` so we also need the `!important` here to be able to override the default hidden behavior on the sphinx rendered scikit-learn.org. See: https://github.com/scikit-learn/scikit-learn/issues/21755 */display: inline-block !important;position: relative;}#sk-container-id-22 div.sk-text-repr-fallback {display: none;}</style><div id=\"sk-container-id-22\" class=\"sk-top-container\"><div class=\"sk-text-repr-fallback\"><pre>LogisticRegression(solver=&#x27;liblinear&#x27;)</pre><b>In a Jupyter environment, please rerun this cell to show the HTML representation or trust the notebook. <br />On GitHub, the HTML representation is unable to render, please try loading this page with nbviewer.org.</b></div><div class=\"sk-container\" hidden><div class=\"sk-item\"><div class=\"sk-estimator sk-toggleable\"><input class=\"sk-toggleable__control sk-hidden--visually\" id=\"sk-estimator-id-22\" type=\"checkbox\" checked><label for=\"sk-estimator-id-22\" class=\"sk-toggleable__label sk-toggleable__label-arrow\">LogisticRegression</label><div class=\"sk-toggleable__content\"><pre>LogisticRegression(solver=&#x27;liblinear&#x27;)</pre></div></div></div></div></div>"
      ],
      "text/plain": [
       "LogisticRegression(solver='liblinear')"
      ]
     },
     "execution_count": 378,
     "metadata": {},
     "output_type": "execute_result"
    }
   ],
   "source": [
    "LR = LogisticRegression(solver='liblinear')\n",
    "LR.fit(X_train, y_train)"
   ]
  },
  {
   "cell_type": "code",
   "execution_count": 379,
   "id": "7af1c5d8-4ca2-40dc-a4e7-31fdadd2f5a8",
   "metadata": {},
   "outputs": [],
   "source": [
    "predictions_lr = LR.predict(X_test)"
   ]
  },
  {
   "cell_type": "code",
   "execution_count": 380,
   "id": "fa5cb91a-5206-4064-99ca-e0c6cca584f0",
   "metadata": {},
   "outputs": [],
   "source": [
    "LR_Accuracy_Score = metrics.accuracy_score(y_test, predictions_lr)\n",
    "LR_JaccardIndex = metrics.jaccard_score(y_test, predictions_lr)\n",
    "LR_F1_Score = metrics.f1_score(y_test, predictions_lr)\n",
    "LR_Log_Loss = metrics.log_loss(y_test, predictions_lr)"
   ]
  },
  {
   "cell_type": "code",
   "execution_count": 381,
   "id": "cb794af6-65d9-41f4-8f3a-b455547ad0ff",
   "metadata": {},
   "outputs": [
    {
     "name": "stdout",
     "output_type": "stream",
     "text": [
      "Jaccard Score:  0.4090909090909091\n"
     ]
    }
   ],
   "source": [
    "from sklearn.metrics import jaccard_score\n",
    "print(\"Jaccard Score: \", jaccard_score(y_test, predictions_lr))"
   ]
  },
  {
   "cell_type": "code",
   "execution_count": 382,
   "id": "dbadba68-46a4-40ec-93f6-c3347fde28ac",
   "metadata": {},
   "outputs": [
    {
     "data": {
      "image/png": "[encoded data removed]",
      "text/plain": [
       "<Figure size 800x600 with 2 Axes>"
      ]
     },
     "metadata": {},
     "output_type": "display_data"
    },
    {
     "name": "stdout",
     "output_type": "stream",
     "text": [
      "Train set Accuracy:  0.7601809954751131\n",
      "Test set Accuracy:  0.7678571428571429\n",
      "Jaccard Score:  0.4090909090909091\n",
      "F1 Score:  0.5806451612903225\n",
      "Log Loss:  8.367276679616483\n"
     ]
    }
   ],
   "source": [
    "# Calculate confusion matrix\n",
    "conf_matrix_lr = confusion_matrix(y_test, predictions_lr)\n",
    "\n",
    "# Plot confusion matrix with color bar on the right side\n",
    "plt.figure(figsize=(8, 6))\n",
    "sns.heatmap(conf_matrix_lr, annot=True, fmt=\"d\", cmap=\"Blues\", cbar=True, cbar_kws={'orientation': 'vertical'})\n",
    "plt.title(\"Confusion Matrix for Logistic Regression\")\n",
    "plt.xlabel(\"Predicted Labels\")\n",
    "plt.ylabel(\"True Labels\")\n",
    "plt.show()\n",
    "\n",
    "# Additional accuracy printing\n",
    "train_accuracy_lr = accuracy_score(y_train, LR.predict(X_train))\n",
    "test_accuracy_lr = accuracy_score(y_test, predictions_lr)\n",
    "jaccard_lr = jaccard_score(y_test, predictions_lr)\n",
    "f1_lr = f1_score(y_test, predictions_lr)\n",
    "logloss_lr = log_loss(y_test, predictions_lr)\n",
    "\n",
    "print(\"Train set Accuracy: \", train_accuracy_lr)\n",
    "print(\"Test set Accuracy: \", test_accuracy_lr)\n",
    "print(\"Jaccard Score: \", jaccard_lr)\n",
    "print(\"F1 Score: \", f1_lr)\n",
    "print(\"Log Loss: \", logloss_lr)"
   ]
  },
  {
   "cell_type": "markdown",
   "id": "ff82af09-9d25-4036-ba59-d2b4d6ae1c60",
   "metadata": {},
   "source": [
    "## Support Vector Machine ##"
   ]
  },
  {
   "cell_type": "code",
   "execution_count": 383,
   "id": "91005ec5-5e64-497a-a34f-d3f5871f8b7c",
   "metadata": {},
   "outputs": [
    {
     "data": {
      "text/html": [
       "<style>#sk-container-id-23 {color: black;}#sk-container-id-23 pre{padding: 0;}#sk-container-id-23 div.sk-toggleable {background-color: white;}#sk-container-id-23 label.sk-toggleable__label {cursor: pointer;display: block;width: 100%;margin-bottom: 0;padding: 0.3em;box-sizing: border-box;text-align: center;}#sk-container-id-23 label.sk-toggleable__label-arrow:before {content: \"▸\";float: left;margin-right: 0.25em;color: #696969;}#sk-container-id-23 label.sk-toggleable__label-arrow:hover:before {color: black;}#sk-container-id-23 div.sk-estimator:hover label.sk-toggleable__label-arrow:before {color: black;}#sk-container-id-23 div.sk-toggleable__content {max-height: 0;max-width: 0;overflow: hidden;text-align: left;background-color: #f0f8ff;}#sk-container-id-23 div.sk-toggleable__content pre {margin: 0.2em;color: black;border-radius: 0.25em;background-color: #f0f8ff;}#sk-container-id-23 input.sk-toggleable__control:checked~div.sk-toggleable__content {max-height: 200px;max-width: 100%;overflow: auto;}#sk-container-id-23 input.sk-toggleable__control:checked~label.sk-toggleable__label-arrow:before {content: \"▾\";}#sk-container-id-23 div.sk-estimator input.sk-toggleable__control:checked~label.sk-toggleable__label {background-color: #d4ebff;}#sk-container-id-23 div.sk-label input.sk-toggleable__control:checked~label.sk-toggleable__label {background-color: #d4ebff;}#sk-container-id-23 input.sk-hidden--visually {border: 0;clip: rect(1px 1px 1px 1px);clip: rect(1px, 1px, 1px, 1px);height: 1px;margin: -1px;overflow: hidden;padding: 0;position: absolute;width: 1px;}#sk-container-id-23 div.sk-estimator {font-family: monospace;background-color: #f0f8ff;border: 1px dotted black;border-radius: 0.25em;box-sizing: border-box;margin-bottom: 0.5em;}#sk-container-id-23 div.sk-estimator:hover {background-color: #d4ebff;}#sk-container-id-23 div.sk-parallel-item::after {content: \"\";width: 100%;border-bottom: 1px solid gray;flex-grow: 1;}#sk-container-id-23 div.sk-label:hover label.sk-toggleable__label {background-color: #d4ebff;}#sk-container-id-23 div.sk-serial::before {content: \"\";position: absolute;border-left: 1px solid gray;box-sizing: border-box;top: 0;bottom: 0;left: 50%;z-index: 0;}#sk-container-id-23 div.sk-serial {display: flex;flex-direction: column;align-items: center;background-color: white;padding-right: 0.2em;padding-left: 0.2em;position: relative;}#sk-container-id-23 div.sk-item {position: relative;z-index: 1;}#sk-container-id-23 div.sk-parallel {display: flex;align-items: stretch;justify-content: center;background-color: white;position: relative;}#sk-container-id-23 div.sk-item::before, #sk-container-id-23 div.sk-parallel-item::before {content: \"\";position: absolute;border-left: 1px solid gray;box-sizing: border-box;top: 0;bottom: 0;left: 50%;z-index: -1;}#sk-container-id-23 div.sk-parallel-item {display: flex;flex-direction: column;z-index: 1;position: relative;background-color: white;}#sk-container-id-23 div.sk-parallel-item:first-child::after {align-self: flex-end;width: 50%;}#sk-container-id-23 div.sk-parallel-item:last-child::after {align-self: flex-start;width: 50%;}#sk-container-id-23 div.sk-parallel-item:only-child::after {width: 0;}#sk-container-id-23 div.sk-dashed-wrapped {border: 1px dashed gray;margin: 0 0.4em 0.5em 0.4em;box-sizing: border-box;padding-bottom: 0.4em;background-color: white;}#sk-container-id-23 div.sk-label label {font-family: monospace;font-weight: bold;display: inline-block;line-height: 1.2em;}#sk-container-id-23 div.sk-label-container {text-align: center;}#sk-container-id-23 div.sk-container {/* jupyter's `normalize.less` sets `[hidden] { display: none; }` but bootstrap.min.css set `[hidden] { display: none !important; }` so we also need the `!important` here to be able to override the default hidden behavior on the sphinx rendered scikit-learn.org. See: https://github.com/scikit-learn/scikit-learn/issues/21755 */display: inline-block !important;position: relative;}#sk-container-id-23 div.sk-text-repr-fallback {display: none;}</style><div id=\"sk-container-id-23\" class=\"sk-top-container\"><div class=\"sk-text-repr-fallback\"><pre>SVC(probability=True)</pre><b>In a Jupyter environment, please rerun this cell to show the HTML representation or trust the notebook. <br />On GitHub, the HTML representation is unable to render, please try loading this page with nbviewer.org.</b></div><div class=\"sk-container\" hidden><div class=\"sk-item\"><div class=\"sk-estimator sk-toggleable\"><input class=\"sk-toggleable__control sk-hidden--visually\" id=\"sk-estimator-id-23\" type=\"checkbox\" checked><label for=\"sk-estimator-id-23\" class=\"sk-toggleable__label sk-toggleable__label-arrow\">SVC</label><div class=\"sk-toggleable__content\"><pre>SVC(probability=True)</pre></div></div></div></div></div>"
      ],
      "text/plain": [
       "SVC(probability=True)"
      ]
     },
     "execution_count": 383,
     "metadata": {},
     "output_type": "execute_result"
    }
   ],
   "source": [
    "SVM = svm.SVC(probability=True)\n",
    "SVM.fit(X_train, y_train)"
   ]
  },
  {
   "cell_type": "code",
   "execution_count": 384,
   "id": "8a67735d-a312-42b8-900a-82e724f88bac",
   "metadata": {},
   "outputs": [],
   "source": [
    "predictions_svm = SVM.predict(X_test)"
   ]
  },
  {
   "cell_type": "code",
   "execution_count": 385,
   "id": "952b3c5a-ef31-4d8c-b35b-65bf88511895",
   "metadata": {},
   "outputs": [],
   "source": [
    "SVM_Accuracy_Score = metrics.accuracy_score(predictions_svm, y_test)\n",
    "SVM_JaccardIndex = metrics.jaccard_score(predictions_svm, y_test)\n",
    "SVM_F1_Score = metrics.f1_score(predictions_svm, y_test)"
   ]
  },
  {
   "cell_type": "code",
   "execution_count": 386,
   "id": "8b49f9fe-0b91-4336-933d-6f27f8244d73",
   "metadata": {},
   "outputs": [
    {
     "data": {
      "image/png": "[encoded data removed]",
      "text/plain": [
       "<Figure size 800x600 with 2 Axes>"
      ]
     },
     "metadata": {},
     "output_type": "display_data"
    },
    {
     "name": "stdout",
     "output_type": "stream",
     "text": [
      "SVM Train set Accuracy:  0.7330316742081447\n",
      "SVM Test set Accuracy:  0.7857142857142857\n",
      "SVM Jaccard Score:  0.45454545454545453\n",
      "SVM F1 Score:  0.625\n"
     ]
    }
   ],
   "source": [
    "# Calculate confusion matrix\n",
    "conf_matrix_svm = confusion_matrix(y_test, predictions_svm)\n",
    "\n",
    "# Plot confusion matrix with color bar on the right side\n",
    "plt.figure(figsize=(8, 6))\n",
    "sns.heatmap(conf_matrix_svm, annot=True, fmt=\"d\", cmap=\"Blues\", cbar=True, cbar_kws={'orientation': 'vertical'})\n",
    "plt.title(\"Confusion Matrix for SVM\")\n",
    "plt.xlabel(\"Predicted Labels\")\n",
    "plt.ylabel(\"True Labels\")\n",
    "plt.show()\n",
    "\n",
    "# Additional accuracy printing\n",
    "train_accuracy_svm = accuracy_score(y_train, SVM.predict(X_train))\n",
    "test_accuracy_svm = accuracy_score(y_test, predictions_svm)\n",
    "jaccard_svm = jaccard_score(y_test, predictions_svm)\n",
    "f1_svm = f1_score(y_test, predictions_svm)\n",
    "\n",
    "print(\"SVM Train set Accuracy: \", train_accuracy_svm)\n",
    "print(\"SVM Test set Accuracy: \", test_accuracy_svm)\n",
    "print(\"SVM Jaccard Score: \", jaccard_svm)\n",
    "print(\"SVM F1 Score: \", f1_svm)"
   ]
  },
  {
   "cell_type": "code",
   "execution_count": 387,
   "id": "aea79eba-63a0-4adb-b2fc-af8e35789b0e",
   "metadata": {},
   "outputs": [
    {
     "name": "stdout",
     "output_type": "stream",
     "text": [
      "F1 Score:  0.7857142857142857\n"
     ]
    }
   ],
   "source": [
    "from sklearn.metrics import f1_score\n",
    "print(\"F1 Score: \", f1_score(y_test, predictions_svm, average='weighted'))"
   ]
  },
  {
   "cell_type": "code",
   "execution_count": 388,
   "id": "97fa8022-77f3-4552-83e8-411098e50e3c",
   "metadata": {},
   "outputs": [
    {
     "name": "stdout",
     "output_type": "stream",
     "text": [
      "Jaccard Score:  0.45454545454545453\n"
     ]
    }
   ],
   "source": [
    "from sklearn.metrics import jaccard_score\n",
    "print(\"Jaccard Score: \", jaccard_score(y_test, predictions_svm,))"
   ]
  },
  {
   "cell_type": "markdown",
   "id": "e101baa0-d0b6-4e0f-acde-e0b6d208aa82",
   "metadata": {},
   "source": [
    "## ROC"
   ]
  },
  {
   "cell_type": "code",
   "execution_count": 389,
   "id": "f4d20695-66b5-4eb0-aaac-5e74b654fd87",
   "metadata": {},
   "outputs": [
    {
     "data": {
      "image/png": "[encoded data removed]",
      "text/plain": [
       "<Figure size 800x600 with 1 Axes>"
      ]
     },
     "metadata": {},
     "output_type": "display_data"
    }
   ],
   "source": [
    "import matplotlib.pyplot as plt\n",
    "from sklearn.metrics import roc_curve, roc_auc_score\n",
    "\n",
    "# ROC Curve and AUC for K Nearest Neighbors\n",
    "probabilities_knn = KNN.predict_proba(X_test)[:, 1]\n",
    "fpr_knn, tpr_knn, thresholds_knn = roc_curve(y_test, probabilities_knn)\n",
    "auc_knn = roc_auc_score(y_test, probabilities_knn)\n",
    "\n",
    "plt.figure(figsize=(8, 6))\n",
    "plt.plot(fpr_knn, tpr_knn, color='blue', lw=2, label='KNN (AUC = %0.2f)' % auc_knn)\n",
    "\n",
    "# ROC Curve and AUC for Decision Tree\n",
    "probabilities_tree = Tree.predict_proba(X_test)[:, 1]\n",
    "fpr_tree, tpr_tree, thresholds_tree = roc_curve(y_test, probabilities_tree)\n",
    "auc_tree = roc_auc_score(y_test, probabilities_tree)\n",
    "\n",
    "plt.plot(fpr_tree, tpr_tree, color='green', lw=2, label='Decision Tree (AUC = %0.2f)' % auc_tree)\n",
    "\n",
    "# ROC Curve and AUC for Logistic Regression\n",
    "probabilities_lr = LR.predict_proba(X_test)[:, 1]\n",
    "fpr_lr, tpr_lr, thresholds_lr = roc_curve(y_test, probabilities_lr)\n",
    "auc_lr = roc_auc_score(y_test, probabilities_lr)\n",
    "\n",
    "plt.plot(fpr_lr, tpr_lr, color='red', lw=2, label='Logistic Regression (AUC = %0.2f)' % auc_lr)\n",
    "\n",
    "# ROC Curve and AUC for SVM\n",
    "probabilities_svm = SVM.predict_proba(X_test)[:, 1]\n",
    "fpr_svm, tpr_svm, thresholds_svm = roc_curve(y_test, probabilities_svm)\n",
    "auc_svm = roc_auc_score(y_test, probabilities_svm)\n",
    "\n",
    "plt.plot(fpr_svm, tpr_svm, color='purple', lw=2, label='SVM (AUC = %0.2f)' % auc_svm)\n",
    "\n",
    "# Plot the ROC curve for each classifier\n",
    "plt.plot([0, 1], [0, 1], color='gray', linestyle='--')\n",
    "plt.xlim([0.0, 1.0])\n",
    "plt.ylim([0.0, 1.05])\n",
    "plt.xlabel('False Positive Rate')\n",
    "plt.ylabel('True Positive Rate')\n",
    "plt.title('Receiver Operating Characteristic (ROC) Curves')\n",
    "plt.legend(loc=\"lower right\")\n",
    "plt.show()"
   ]
  },
  {
   "cell_type": "markdown",
   "id": "9df8e408",
   "metadata": {},
   "source": [
    "# Descriptive Visualization"
   ]
  },
  {
   "cell_type": "code",
   "execution_count": 221,
   "id": "20eb7bb0-0996-4ff3-b60b-52d7e26b4e32",
   "metadata": {},
   "outputs": [
    {
     "data": {
      "image/png": "[encoded data removed]",
      "text/plain": [
       "<Figure size 640x480 with 1 Axes>"
      ]
     },
     "metadata": {},
     "output_type": "display_data"
    }
   ],
   "source": [
    "sns.histplot(data = df['relapse']);"
   ]
  },
  {
   "cell_type": "code",
   "execution_count": 222,
   "id": "7a87c003-528e-4d07-986f-b677734dfbdd",
   "metadata": {},
   "outputs": [
    {
     "name": "stdout",
     "output_type": "stream",
     "text": [
      "<class 'pandas.core.frame.DataFrame'>\n",
      "Index: 277 entries, 0 to 285\n",
      "Data columns (total 10 columns):\n",
      " #   Column       Non-Null Count  Dtype \n",
      "---  ------       --------------  ----- \n",
      " 0   age          277 non-null    object\n",
      " 1   menopause    277 non-null    object\n",
      " 2   tumor-size   277 non-null    object\n",
      " 3   inv-nodes    277 non-null    object\n",
      " 4   node-caps    277 non-null    object\n",
      " 5   deg-malig    277 non-null    int64 \n",
      " 6   breast       277 non-null    object\n",
      " 7   breast-quad  277 non-null    object\n",
      " 8   irradiat     277 non-null    object\n",
      " 9   relapse      277 non-null    object\n",
      "dtypes: int64(1), object(9)\n",
      "memory usage: 23.8+ KB\n"
     ]
    }
   ],
   "source": [
    "df.info()"
   ]
  },
  {
   "cell_type": "code",
   "execution_count": 223,
   "id": "c55f1d28-b1fd-4c66-b3d2-e011be142804",
   "metadata": {},
   "outputs": [
    {
     "data": {
      "text/plain": [
       "age\n",
       "20-29     1\n",
       "70-79     5\n",
       "30-39    36\n",
       "60-69    55\n",
       "40-49    89\n",
       "50-59    91\n",
       "Name: count, dtype: int64"
      ]
     },
     "execution_count": 223,
     "metadata": {},
     "output_type": "execute_result"
    }
   ],
   "source": [
    "df['age'].value_counts(ascending = True)"
   ]
  },
  {
   "cell_type": "code",
   "execution_count": 224,
   "id": "6140f215-f559-4018-86f9-e2e764342eb4",
   "metadata": {},
   "outputs": [
    {
     "data": {
      "image/png": "[encoded data removed]",
      "text/plain": [
       "<Figure size 640x480 with 1 Axes>"
      ]
     },
     "metadata": {},
     "output_type": "display_data"
    }
   ],
   "source": [
    "age_range = ['20-29', '30-39', '40-49', '50-59', '60-69', '70-79']\n",
    "age_counts = [1, 36, 89, 91, 55, 5]\n",
    "ax = sns.barplot(x = age_range, y = age_counts)\n",
    "ax.set_xlabel(\"Age Groups\")\n",
    "ax.set_ylabel(\"Patient Counts\")\n",
    "ax.set_title(\"Age of Breast Cancer Patients\")\n",
    "plt.show()"
   ]
  },
  {
   "cell_type": "code",
   "execution_count": 225,
   "id": "74483b82-514e-412e-af1a-9783ea1780a1",
   "metadata": {},
   "outputs": [
    {
     "data": {
      "text/plain": [
       "menopause\n",
       "lt40         5\n",
       "ge40       123\n",
       "premeno    149\n",
       "Name: count, dtype: int64"
      ]
     },
     "execution_count": 225,
     "metadata": {},
     "output_type": "execute_result"
    }
   ],
   "source": [
    "df['menopause'].value_counts(ascending = True)"
   ]
  },
  {
   "cell_type": "code",
   "execution_count": 226,
   "id": "855dadcf-be85-4348-8251-1d9fd8979b64",
   "metadata": {},
   "outputs": [
    {
     "data": {
      "image/png": "[encoded data removed]",
      "text/plain": [
       "<Figure size 640x480 with 1 Axes>"
      ]
     },
     "metadata": {},
     "output_type": "display_data"
    }
   ],
   "source": [
    "menu_status = ['Premenopausal', 'Menupause Less Than 40', 'Menupause Greater or Equal to 40']\n",
    "menu_values = [149, 5, 123]\n",
    "ax = sns.barplot(x = menu_status, y = menu_values)\n",
    "ax.set_xlabel(\"Menupausal Status\")\n",
    "ax.set_ylabel(\"Patient Counts\")\n",
    "ax.set_title(\"Menupausal Status of Patients\")\n",
    "ax.set_xticklabels(ax.get_xticklabels(), rotation=45, ha='right')\n",
    "plt.show()"
   ]
  },
  {
   "cell_type": "code",
   "execution_count": 227,
   "id": "ada00843-20b0-42e9-b47a-1d6e02a303b1",
   "metadata": {},
   "outputs": [
    {
     "data": {
      "image/png": "[encoded data removed]",
      "text/plain": [
       "<Figure size 640x480 with 1 Axes>"
      ]
     },
     "metadata": {},
     "output_type": "display_data"
    }
   ],
   "source": [
    "menu_status = ['Premenopausal', 'Menopause Less Than 40', 'Menopause Greater or Equal to 40']\n",
    "menu_values = [149, 5, 123]\n",
    "\n",
    "# Specify the degree of separation for each slice\n",
    "explode = (0.01, 0, 0.01)  # Separation for the first slice (Premenopausal)\n",
    "colors = colors = ['#86D9AC', '#41B675', '#2E8C59']\n",
    "# Create a pie chart with separation\n",
    "plt.pie(menu_values, labels=menu_status, autopct='%1.1f%%', startangle=90, explode=explode, colors = colors)\n",
    "\n",
    "plt.axis('equal')  # Equal aspect ratio ensures that the pie is drawn as a circle.\n",
    "plt.title(\"Menopausal Status of Patients\")\n",
    "\n",
    "plt.show()"
   ]
  },
  {
   "cell_type": "code",
   "execution_count": 228,
   "id": "ab309c73-f69f-41a0-95d5-d5973fc7d05d",
   "metadata": {},
   "outputs": [
    {
     "data": {
      "text/plain": [
       "tumor-size\n",
       "45-49     3\n",
       "5-9       4\n",
       "0-4       8\n",
       "50-54     8\n",
       "35-39    19\n",
       "40-44    22\n",
       "10-14    28\n",
       "15-19    29\n",
       "20-24    48\n",
       "25-29    51\n",
       "30-34    57\n",
       "Name: count, dtype: int64"
      ]
     },
     "execution_count": 228,
     "metadata": {},
     "output_type": "execute_result"
    }
   ],
   "source": [
    "df['tumor-size'].value_counts(ascending = True)"
   ]
  },
  {
   "cell_type": "code",
   "execution_count": 229,
   "id": "cd6201ba-65ee-487f-8778-217c22f3338c",
   "metadata": {},
   "outputs": [
    {
     "data": {
      "image/png": "[encoded data removed]",
      "text/plain": [
       "<Figure size 640x480 with 1 Axes>"
      ]
     },
     "metadata": {},
     "output_type": "display_data"
    }
   ],
   "source": [
    "tumor_size = [\"0-4\", \"5-9\", \"10-14\", \"15-19\", \"20-24\", \"25-29\", \"30-34\", \"35-39\", \"40-44\", \"45-49\", \"50-54\"]\n",
    "tumor_values = [8, 4, 28, 29, 48, 51, 57, 19, 22, 3, 8]\n",
    "ax = sns.barplot(x = tumor_size, y = tumor_values)\n",
    "ax.set_xlabel(\"Tumor Size\")\n",
    "ax.set_ylabel(\"Patient Counts\")\n",
    "ax.set_title(\"Size of Tumor\")\n",
    "ax.set_xticklabels(ax.get_xticklabels(), rotation = 45, ha = 'right')\n",
    "plt.show()"
   ]
  },
  {
   "cell_type": "code",
   "execution_count": 230,
   "id": "498fb48e-9484-4418-ad8b-68fca3743086",
   "metadata": {},
   "outputs": [
    {
     "data": {
      "text/plain": [
       "inv-nodes\n",
       "24-26      1\n",
       "12-14      3\n",
       "15-17      6\n",
       "9-11       7\n",
       "6-8       17\n",
       "3-5       34\n",
       "0-2      209\n",
       "Name: count, dtype: int64"
      ]
     },
     "execution_count": 230,
     "metadata": {},
     "output_type": "execute_result"
    }
   ],
   "source": [
    "df['inv-nodes'].value_counts(ascending = True)"
   ]
  },
  {
   "cell_type": "code",
   "execution_count": 231,
   "id": "65849c53-4573-4797-8cac-11302a4c617b",
   "metadata": {},
   "outputs": [
    {
     "data": {
      "image/png": "[encoded data removed]",
      "text/plain": [
       "<Figure size 640x480 with 1 Axes>"
      ]
     },
     "metadata": {},
     "output_type": "display_data"
    }
   ],
   "source": [
    "inv_nodes = [\"0-2\", \"3-5\", \"6-8\", \"9-11\", \"12-14\", \"15-17\", \"18-20\", \"21-23\", \"24-26\"]\n",
    "inv_values = [209, 34, 17, 7, 3, 6, 0, 0, 1]\n",
    "ax = sns.barplot(x = inv_nodes, y = inv_values)\n",
    "ax.set_xlabel(\"Number of Nodes\")\n",
    "ax.set_ylabel(\"Patient Counts\")\n",
    "ax.set_title(\"Number of Involved Lymph Nodes\")\n",
    "ax.set_xticklabels(ax.get_xticklabels(), rotation = 45, ha = 'right')\n",
    "plt.show()"
   ]
  },
  {
   "cell_type": "code",
   "execution_count": 232,
   "id": "5a413fb2-41e1-4b5a-b2cf-a5d47a512104",
   "metadata": {},
   "outputs": [
    {
     "data": {
      "text/plain": [
       "node-caps\n",
       "yes     56\n",
       "no     221\n",
       "Name: count, dtype: int64"
      ]
     },
     "execution_count": 232,
     "metadata": {},
     "output_type": "execute_result"
    }
   ],
   "source": [
    "df['node-caps'].value_counts(ascending = True)"
   ]
  },
  {
   "cell_type": "code",
   "execution_count": 233,
   "id": "186dfa85-acf7-476e-b474-7652f8d9be58",
   "metadata": {},
   "outputs": [
    {
     "data": {
      "image/png": "[encoded data removed]",
      "text/plain": [
       "<Figure size 640x480 with 1 Axes>"
      ]
     },
     "metadata": {},
     "output_type": "display_data"
    }
   ],
   "source": [
    "nodes_caps = ['Yes', 'No']\n",
    "nodes_values = [56, 221]\n",
    "explode = (0.02, 0)  # Separation for the first slice ('Yes')\n",
    "colors = ['#86D9AC', '#35A367']\n",
    "# Create a pie chart with separation and percentage labels\n",
    "plt.pie(nodes_values, labels=nodes_caps, autopct='%1.1f%%', startangle=90, explode=explode, colors = colors)\n",
    "\n",
    "plt.axis('equal')  # Equal aspect ratio ensures that the pie is drawn as a circle.\n",
    "plt.title(\"Presence of Node Caps\")\n",
    "\n",
    "plt.show()"
   ]
  },
  {
   "cell_type": "code",
   "execution_count": 234,
   "id": "e01c2807-aa10-4724-ba7b-d861a2d2d9cd",
   "metadata": {},
   "outputs": [
    {
     "data": {
      "text/plain": [
       "deg-malig\n",
       "1     66\n",
       "3     82\n",
       "2    129\n",
       "Name: count, dtype: int64"
      ]
     },
     "execution_count": 234,
     "metadata": {},
     "output_type": "execute_result"
    }
   ],
   "source": [
    "df['deg-malig'].value_counts(ascending = True)"
   ]
  },
  {
   "cell_type": "code",
   "execution_count": 235,
   "id": "b26cc131-47c1-4333-b272-24e434212b84",
   "metadata": {},
   "outputs": [
    {
     "data": {
      "image/png": "[encoded data removed]",
      "text/plain": [
       "<Figure size 640x480 with 1 Axes>"
      ]
     },
     "metadata": {},
     "output_type": "display_data"
    }
   ],
   "source": [
    "# Specify the degree of separation for each slice\n",
    "deg_malig = [\"1\", \"2\", \"3\"]\n",
    "deg_counts = [66, 82, 129]\n",
    "explode = (0.01, 0.01, 0.01)  # Separation for the first slice (Premenopausal)\n",
    "colors = colors = ['#86D9AC', '#41B675', '#2E8C59']\n",
    "# Create a pie chart with separation\n",
    "plt.pie(deg_counts, labels=deg_malig, autopct='%1.1f%%', startangle=90, explode=explode, colors = colors)\n",
    "\n",
    "plt.axis('equal')  # Equal aspect ratio ensures that the pie is drawn as a circle.\n",
    "plt.title(\"Degree of Malignancy\\n (Graded as 1, 2, or 3)\")\n",
    "\n",
    "plt.show()"
   ]
  },
  {
   "cell_type": "code",
   "execution_count": 236,
   "id": "b03b21c8-5ed0-4518-aec4-76560e734b8c",
   "metadata": {},
   "outputs": [
    {
     "data": {
      "text/plain": [
       "breast\n",
       "right    132\n",
       "left     145\n",
       "Name: count, dtype: int64"
      ]
     },
     "execution_count": 236,
     "metadata": {},
     "output_type": "execute_result"
    }
   ],
   "source": [
    "df['breast'].value_counts(ascending = True)"
   ]
  },
  {
   "cell_type": "code",
   "execution_count": 237,
   "id": "4296a185-f615-46bf-8959-a8f8a3458f36",
   "metadata": {},
   "outputs": [
    {
     "data": {
      "image/png": "[encoded data removed]",
      "text/plain": [
       "<Figure size 640x480 with 1 Axes>"
      ]
     },
     "metadata": {},
     "output_type": "display_data"
    }
   ],
   "source": [
    "nodes_caps = ['Right', 'Left']\n",
    "nodes_values = [132, 145]\n",
    "explode = (0.02, 0)  # Separation for the first slice ('Yes')\n",
    "colors = ['#86D9AC', '#35A367']\n",
    "# Create a pie chart with separation and percentage labels\n",
    "plt.pie(nodes_values, labels=nodes_caps, autopct='%1.1f%%', startangle=90, explode=explode, colors = colors)\n",
    "\n",
    "plt.axis('equal')  # Equal aspect ratio ensures that the pie is drawn as a circle.\n",
    "plt.title(\"Breast Involved\")\n",
    "\n",
    "plt.show()"
   ]
  },
  {
   "cell_type": "code",
   "execution_count": 238,
   "id": "292eb240-7728-485c-8d00-3e4d971243b5",
   "metadata": {},
   "outputs": [
    {
     "data": {
      "text/plain": [
       "breast-quad\n",
       "central       21\n",
       "right_low     23\n",
       "right_up      33\n",
       "left_up       94\n",
       "left_low     106\n",
       "Name: count, dtype: int64"
      ]
     },
     "execution_count": 238,
     "metadata": {},
     "output_type": "execute_result"
    }
   ],
   "source": [
    "df['breast-quad'].value_counts(ascending = True)"
   ]
  },
  {
   "cell_type": "code",
   "execution_count": 239,
   "id": "14585f6d-fce9-4ea3-b13d-2c85363cb572",
   "metadata": {},
   "outputs": [
    {
     "data": {
      "image/png": "[encoded data removed]",
      "text/plain": [
       "<Figure size 640x480 with 1 Axes>"
      ]
     },
     "metadata": {},
     "output_type": "display_data"
    }
   ],
   "source": [
    "breast_quad = [\"Right Low\", \"Right Up\", \"Left Low\", \"Left Up\", \"Central\"]\n",
    "quad_values = [23, 33, 106, 94, 21]\n",
    "ax = sns.barplot(x = breast_quad, y = quad_values)\n",
    "ax.set_xlabel(\"Quadrant\")\n",
    "ax.set_ylabel(\"Patient Counts\")\n",
    "ax.set_title(\"Quadrant of The Breast Affected\")\n",
    "ax.set_xticklabels(ax.get_xticklabels(), rotation = 45, ha = 'right')\n",
    "plt.show()"
   ]
  },
  {
   "cell_type": "code",
   "execution_count": 240,
   "id": "54309508-ee8f-4272-9926-0ecfd17a0e3b",
   "metadata": {},
   "outputs": [
    {
     "data": {
      "text/plain": [
       "irradiat\n",
       "yes     62\n",
       "no     215\n",
       "Name: count, dtype: int64"
      ]
     },
     "execution_count": 240,
     "metadata": {},
     "output_type": "execute_result"
    }
   ],
   "source": [
    "df['irradiat'].value_counts(ascending = True)"
   ]
  },
  {
   "cell_type": "code",
   "execution_count": 241,
   "id": "870def13-ab26-45d1-8ca2-0d7cd3157c7b",
   "metadata": {},
   "outputs": [
    {
     "data": {
      "image/png": "[encoded data removed]",
      "text/plain": [
       "<Figure size 640x480 with 1 Axes>"
      ]
     },
     "metadata": {},
     "output_type": "display_data"
    }
   ],
   "source": [
    "irradiat = ['Yes', 'No']\n",
    "irr_values = [62, 215]\n",
    "explode = (0.02, 0)  # Separation for the first slice ('Yes')\n",
    "colors = ['#86D9AC', '#35A367']\n",
    "# Create a pie chart with separation and percentage labels\n",
    "plt.pie(irr_values, labels=irradiat, autopct='%1.1f%%', startangle=90, explode=explode, colors = colors)\n",
    "\n",
    "plt.axis('equal')  # Equal aspect ratio ensures that the pie is drawn as a circle.\n",
    "plt.title(\"Patient Radiation Status\")\n",
    "\n",
    "plt.show()"
   ]
  },
  {
   "cell_type": "code",
   "execution_count": 243,
   "id": "55cd2c23-612b-4c6f-8fe3-7e9e9e2fdf7b",
   "metadata": {},
   "outputs": [
    {
     "data": {
      "text/plain": [
       "relapse\n",
       "recurrence-events        81\n",
       "no-recurrence-events    196\n",
       "Name: count, dtype: int64"
      ]
     },
     "execution_count": 243,
     "metadata": {},
     "output_type": "execute_result"
    }
   ],
   "source": [
    "df['relapse'].value_counts(ascending = True)"
   ]
  },
  {
   "cell_type": "code",
   "execution_count": 244,
   "id": "bd411326-43aa-439e-859f-60ee0bedc96c",
   "metadata": {},
   "outputs": [
    {
     "data": {
      "image/png": "[encoded data removed]",
      "text/plain": [
       "<Figure size 640x480 with 1 Axes>"
      ]
     },
     "metadata": {},
     "output_type": "display_data"
    }
   ],
   "source": [
    "target = ['Recurrence', 'No Recurrence']\n",
    "target_values = [81, 196]\n",
    "explode = (0.02, 0)  # Separation for the first slice ('Yes')\n",
    "colors = ['#91BC94', '#FB9CB5']\n",
    "# Create a pie chart with separation and percentage labels\n",
    "plt.pie(target_values, labels=target, autopct='%1.1f%%', startangle=90, explode=explode, colors = colors)\n",
    "\n",
    "plt.axis('equal')  # Equal aspect ratio ensures that the pie is drawn as a circle.\n",
    "plt.title(\"Disease Recurrence Status\")\n",
    "\n",
    "plt.show()"
   ]
  },
  {
   "cell_type": "code",
   "execution_count": 245,
   "id": "73ffa503-d15f-4263-a9f3-4aff87d9dea9",
   "metadata": {},
   "outputs": [
    {
     "name": "stdout",
     "output_type": "stream",
     "text": [
      "<class 'pandas.core.frame.DataFrame'>\n",
      "Index: 277 entries, 0 to 285\n",
      "Data columns (total 10 columns):\n",
      " #   Column       Non-Null Count  Dtype \n",
      "---  ------       --------------  ----- \n",
      " 0   age          277 non-null    object\n",
      " 1   menopause    277 non-null    object\n",
      " 2   tumor-size   277 non-null    object\n",
      " 3   inv-nodes    277 non-null    object\n",
      " 4   node-caps    277 non-null    object\n",
      " 5   deg-malig    277 non-null    int64 \n",
      " 6   breast       277 non-null    object\n",
      " 7   breast-quad  277 non-null    object\n",
      " 8   irradiat     277 non-null    object\n",
      " 9   relapse      277 non-null    object\n",
      "dtypes: int64(1), object(9)\n",
      "memory usage: 23.8+ KB\n"
     ]
    }
   ],
   "source": [
    "df.info()"
   ]
  },
  {
   "cell_type": "code",
   "execution_count": null,
   "id": "4e8dbd83-9d5a-435e-8134-4a35a6414839",
   "metadata": {},
   "outputs": [],
   "source": []
  }
 ],
 "metadata": {
  "kernelspec": {
   "display_name": "Python 3 (ipykernel)",
   "language": "python",
   "name": "python3"
  },
  "language_info": {
   "codemirror_mode": {
    "name": "ipython",
    "version": 3
   },
   "file_extension": ".py",
   "mimetype": "text/x-python",
   "name": "python",
   "nbconvert_exporter": "python",
   "pygments_lexer": "ipython3",
   "version": "3.11.5"
  }
 },
 "nbformat": 4,
 "nbformat_minor": 5
}
